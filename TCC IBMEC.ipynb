{
 "cells": [
  {
   "cell_type": "markdown",
   "metadata": {},
   "source": [
    "<h1><center>Comparativo dos métodos Critical Line Algorithm (CLA) e Hierarchical Risk Parity (HRP) para ativos brasileiros</center></h1>\n",
    "\n",
    "O presente código visa comparar os métodos de Markowitz (CLA) e de Marcos Lopez (HRP) na criação de portifólio. São adquiridos dados dos ativos via yahoo finance, calculados os pesos das carteiras, seu risco e demais parâmetros necessários. Ao final há um comparativo de performance das carteiras para um período de um ano posterior aos cálculos iniciais.\n",
    "<ul>\n",
    "    <li> <b>Autor: Thales G. Motta</b> </li>\n",
    "</ul>\n"
   ]
  },
  {
   "cell_type": "code",
   "execution_count": 1,
   "metadata": {},
   "outputs": [],
   "source": [
    "teste2=['ALZR11.SA',\n",
    "'BBPO11.SA',\n",
    "'BCFF11.SA',\n",
    "'BRCR11.SA',\n",
    "'BCRI11.SA',\n",
    "'BRCO11.SA',\n",
    "'BTLG11.SA',\n",
    "'CPTS11.SA',\n",
    "'HGCR11.SA',\n",
    "'HGLG11.SA',\n",
    "'HGRU11.SA',\n",
    "'VRTA11.SA',\n",
    "'GTWR11.SA',\n",
    "'GGRC11.SA',\n",
    "'HABT11.SA',\n",
    "'HCTR11.SA',\n",
    "'HGBS11.SA',\n",
    "'HGRE11.SA',\n",
    "'HSML11.SA',\n",
    "'HFOF11.SA',\n",
    "'IRDM11.SA',\n",
    "'JSRE11.SA',\n",
    "'KNRI11.SA',\n",
    "'KNIP11.SA',\n",
    "'KNCR11.SA',\n",
    "'MALL11.SA',\n",
    "'MCCI11.SA',\n",
    "'MXRF11.SA',\n",
    "'MGFF11.SA',\n",
    "'PATC11.SA',\n",
    "'QAGR11.SA',\n",
    "'RBRP11.SA',\n",
    "'RBRF11.SA',\n",
    "'RBRR11.SA',\n",
    "'RECR11.SA',\n",
    "'RECT11.SA',\n",
    "'RCRB11.SA',\n",
    "'RBVA11.SA',\n",
    "'SDIL11.SA',\n",
    "'TGAR11.SA',\n",
    "'VGIR11.SA',\n",
    "'LVBI11.SA',\n",
    "'VINO11.SA',\n",
    "'VISC11.SA',\n",
    "'VILG11.SA',\n",
    "'XPCI11.SA',\n",
    "'XPIN11.SA',\n",
    "'XPLG11.SA',\n",
    "'XPCM11.SA',\n",
    "'XPML11.SA',\n",
    "'XPPR11.SA']\n",
    "\n",
    "Symbols=['ABCB4.SA',\n",
    "'B3SA3.SA',\n",
    "'BMGB4.SA',\n",
    "'BIDI4.SA',\n",
    "'BIDI11.SA',\n",
    "'BPAN4.SA',\n",
    "'BRSR6.SA',\n",
    "'BBSE3.SA',\n",
    "'BBDC3.SA',\n",
    "'BBDC4.SA',\n",
    "'BBAS3.SA',\n",
    "'BPAC11.SA',\n",
    "'CIEL3.SA',\n",
    "'IRBR3.SA',\n",
    "'ITSA4.SA',\n",
    "'ITUB3.SA',\n",
    "'ITUB4.SA',\n",
    "'PSSA3.SA',\n",
    "'SANB11.SA',\n",
    "'SULA11.SA',\n",
    "'AALR3.SA',\n",
    "'ALPA4.SA',\n",
    "'ABEV3.SA',\n",
    "'ANIM3.SA',\n",
    "'ARZZ3.SA',\n",
    "'BTOW3.SA',\n",
    "'BKBR3.SA',\n",
    "'BRFS3.SA',\n",
    "'CAML3.SA',\n",
    "'CRFB3.SA',\n",
    "'CEAB3.SA',\n",
    "'CNTO3.SA',\n",
    "'HGTX3.SA',\n",
    "'COGN3.SA',\n",
    "'CVCB3.SA',\n",
    "'CYRE3.SA',\n",
    "'DIRR3.SA',\n",
    "'EVEN3.SA',\n",
    "'EZTC3.SA',\n",
    "'FLRY3.SA',\n",
    "'GFSA3.SA',\n",
    "'GRND3.SA',\n",
    "'NTCO3.SA',\n",
    "'SOMA3.SA',\n",
    "'GUAR3.SA',\n",
    "'HAPV3.SA',\n",
    "'HBOR3.SA',\n",
    "'HYPE3.SA',\n",
    "'PARD3.SA',\n",
    "'MEAL3.SA',\n",
    "'GNDI3.SA',\n",
    "'MYPK3.SA',\n",
    "'JBSS3.SA',\n",
    "'JHSF3.SA',\n",
    "'RENT3.SA',\n",
    "'LCAM3.SA',\n",
    "'LAME3.SA',\n",
    "'LAME4.SA',\n",
    "'AMAR3.SA',\n",
    "'LREN3.SA',\n",
    "'MDIA3.SA',\n",
    "'MGLU3.SA',\n",
    "'MRFG3.SA',\n",
    "'LEVE3.SA',\n",
    "'BEEF3.SA',\n",
    "'MTRE3.SA',\n",
    "'MOVI3.SA',\n",
    "'MRVE3.SA',\n",
    "'ODPV3.SA',\n",
    "'QUAL3.SA',\n",
    "'LJQQ3.SA',\n",
    "'RADL3.SA',\n",
    "'SMTO3.SA',\n",
    "'SEER3.SA',\n",
    "'SLCE3.SA',\n",
    "'SMLS3.SA',\n",
    "'TCSA3.SA',\n",
    "'TEND3.SA',\n",
    "'TRIS3.SA',\n",
    "'VVAR3.SA',\n",
    "'VIVA3.SA',\n",
    "'VULC3.SA',\n",
    "'YDUQ3.SA',\n",
    "'TIET11.SA',\n",
    "'ALUP11.SA',\n",
    "'CMIG4.SA',\n",
    "'CESP6.SA',\n",
    "'COCE5.SA',\n",
    "'CPLE6.SA',\n",
    "'CPFE3.SA',\n",
    "'ELET3.SA',\n",
    "'ENBR3.SA',\n",
    "'ENGI11.SA',\n",
    "'ENEV3.SA',\n",
    "'EGIE3.SA',\n",
    "'EQTL3.SA',\n",
    "'LIGT3.SA',\n",
    "'NEOE3.SA',\n",
    "'OMGE3.SA',\n",
    "'TAEE11.SA',\n",
    "'TRPL4.SA',\n",
    "'BRAP4.SA',\n",
    "'BRKM5.SA',\n",
    "'DTEX3.SA',\n",
    "'GGBR4.SA',\n",
    "'GOAU4.SA',\n",
    "'KLBN11.SA',\n",
    "'CSNA3.SA',\n",
    "'SUZB3.SA',\n",
    "'UNIP6.SA',\n",
    "'USIM5.SA',\n",
    "'VALE3.SA',\n",
    "'EMBR3.SA',\n",
    "'POMO4.SA',\n",
    "'POSI3.SA',\n",
    "'RAPT4.SA',\n",
    "'TASA4.SA',\n",
    "'TUPY3.SA',\n",
    "'WEGE3.SA',\n",
    "'ALSO3.SA',\n",
    "'BRML3.SA',\n",
    "'BRPR3.SA',\n",
    "'IGTA3.SA',\n",
    "'JPSA3.SA',\n",
    "'LOGG3.SA',\n",
    "'LPSB3.SA',\n",
    "'MULT3.SA',\n",
    "'CMIG3.SA',\n",
    "'CSMG3.SA',\n",
    "'CPLE3.SA',\n",
    "'ELET6.SA',\n",
    "'SBSP3.SA',\n",
    "'SAPR4.SA',\n",
    "'SAPR11.SA',\n",
    "'VIVT3.SA',\n",
    "'TIMS3.SA']\n"
   ]
  },
  {
   "cell_type": "markdown",
   "metadata": {},
   "source": [
    "\n",
    "<div id=\"Importação de bibliotecas e aquisição dos dados históricos dos ativos e seus parâmetros.\">\n",
    "    <h2>1) Importação de bibliotecas e aquisição dos dados históricos dos ativos e seus parâmetros.</h2>\n",
    "</div>\n"
   ]
  },
  {
   "cell_type": "code",
   "execution_count": 2,
   "metadata": {},
   "outputs": [
    {
     "name": "stderr",
     "output_type": "stream",
     "text": [
      "  2%|▏         | 3/136 [00:08<05:48,  2.62s/it]"
     ]
    },
    {
     "name": "stdout",
     "output_type": "stream",
     "text": [
      "Erro BMGB4.SA\n"
     ]
    },
    {
     "name": "stderr",
     "output_type": "stream",
     "text": [
      "  4%|▎         | 5/136 [00:15<06:24,  2.93s/it]"
     ]
    },
    {
     "name": "stdout",
     "output_type": "stream",
     "text": [
      "Erro BIDI11.SA\n"
     ]
    },
    {
     "name": "stderr",
     "output_type": "stream",
     "text": [
      " 23%|██▎       | 31/136 [01:44<04:37,  2.64s/it]"
     ]
    },
    {
     "name": "stdout",
     "output_type": "stream",
     "text": [
      "Erro CEAB3.SA\n"
     ]
    },
    {
     "name": "stderr",
     "output_type": "stream",
     "text": [
      "\r",
      " 24%|██▎       | 32/136 [01:48<05:21,  3.09s/it]"
     ]
    },
    {
     "name": "stdout",
     "output_type": "stream",
     "text": [
      "Erro CNTO3.SA\n"
     ]
    },
    {
     "name": "stderr",
     "output_type": "stream",
     "text": [
      " 29%|██▊       | 39/136 [02:12<06:03,  3.75s/it]"
     ]
    },
    {
     "name": "stdout",
     "output_type": "stream",
     "text": [
      "Erro EZTC3.SA\n"
     ]
    },
    {
     "name": "stderr",
     "output_type": "stream",
     "text": [
      " 32%|███▏      | 43/136 [02:27<06:11,  3.99s/it]"
     ]
    },
    {
     "name": "stdout",
     "output_type": "stream",
     "text": [
      "Erro NTCO3.SA\n"
     ]
    },
    {
     "name": "stderr",
     "output_type": "stream",
     "text": [
      "\r",
      " 32%|███▏      | 44/136 [02:32<06:43,  4.38s/it]"
     ]
    },
    {
     "name": "stdout",
     "output_type": "stream",
     "text": [
      "Erro SOMA3.SA\n"
     ]
    },
    {
     "name": "stderr",
     "output_type": "stream",
     "text": [
      " 35%|███▌      | 48/136 [02:50<06:35,  4.50s/it]"
     ]
    },
    {
     "name": "stdout",
     "output_type": "stream",
     "text": [
      "Erro HYPE3.SA\n"
     ]
    },
    {
     "name": "stderr",
     "output_type": "stream",
     "text": [
      " 49%|████▊     | 66/136 [03:57<04:48,  4.12s/it]"
     ]
    },
    {
     "name": "stdout",
     "output_type": "stream",
     "text": [
      "Erro MTRE3.SA\n"
     ]
    },
    {
     "name": "stderr",
     "output_type": "stream",
     "text": [
      " 52%|█████▏    | 71/136 [04:22<04:39,  4.30s/it]"
     ]
    },
    {
     "name": "stdout",
     "output_type": "stream",
     "text": [
      "Erro LJQQ3.SA\n"
     ]
    },
    {
     "name": "stderr",
     "output_type": "stream",
     "text": [
      " 60%|█████▉    | 81/136 [04:58<03:14,  3.54s/it]"
     ]
    },
    {
     "name": "stdout",
     "output_type": "stream",
     "text": [
      "Erro VIVA3.SA\n"
     ]
    },
    {
     "name": "stderr",
     "output_type": "stream",
     "text": [
      " 62%|██████▏   | 84/136 [05:08<02:50,  3.29s/it]"
     ]
    },
    {
     "name": "stdout",
     "output_type": "stream",
     "text": [
      "Erro TIET11.SA\n"
     ]
    },
    {
     "name": "stderr",
     "output_type": "stream",
     "text": [
      " 72%|███████▏  | 98/136 [05:50<01:39,  2.63s/it]"
     ]
    },
    {
     "name": "stdout",
     "output_type": "stream",
     "text": [
      "Erro NEOE3.SA\n"
     ]
    },
    {
     "name": "stderr",
     "output_type": "stream",
     "text": [
      "100%|██████████| 136/136 [07:57<00:00,  3.51s/it]"
     ]
    },
    {
     "name": "stdout",
     "output_type": "stream",
     "text": [
      "Erro TIMS3.SA\n"
     ]
    },
    {
     "name": "stderr",
     "output_type": "stream",
     "text": [
      "\n"
     ]
    },
    {
     "data": {
      "text/html": [
       "<div>\n",
       "<style scoped>\n",
       "    .dataframe tbody tr th:only-of-type {\n",
       "        vertical-align: middle;\n",
       "    }\n",
       "\n",
       "    .dataframe tbody tr th {\n",
       "        vertical-align: top;\n",
       "    }\n",
       "\n",
       "    .dataframe thead th {\n",
       "        text-align: right;\n",
       "    }\n",
       "</style>\n",
       "<table border=\"1\" class=\"dataframe\">\n",
       "  <thead>\n",
       "    <tr style=\"text-align: right;\">\n",
       "      <th></th>\n",
       "      <th>ABCB4</th>\n",
       "      <th>B3SA3</th>\n",
       "      <th>BIDI4</th>\n",
       "      <th>BPAN4</th>\n",
       "      <th>BRSR6</th>\n",
       "      <th>BBSE3</th>\n",
       "      <th>BBDC3</th>\n",
       "      <th>BBDC4</th>\n",
       "      <th>BBAS3</th>\n",
       "      <th>BPAC11</th>\n",
       "      <th>...</th>\n",
       "      <th>LPSB3</th>\n",
       "      <th>MULT3</th>\n",
       "      <th>CMIG3</th>\n",
       "      <th>CSMG3</th>\n",
       "      <th>CPLE3</th>\n",
       "      <th>ELET6</th>\n",
       "      <th>SBSP3</th>\n",
       "      <th>SAPR4</th>\n",
       "      <th>SAPR11</th>\n",
       "      <th>VIVT3</th>\n",
       "    </tr>\n",
       "    <tr>\n",
       "      <th>Date</th>\n",
       "      <th></th>\n",
       "      <th></th>\n",
       "      <th></th>\n",
       "      <th></th>\n",
       "      <th></th>\n",
       "      <th></th>\n",
       "      <th></th>\n",
       "      <th></th>\n",
       "      <th></th>\n",
       "      <th></th>\n",
       "      <th></th>\n",
       "      <th></th>\n",
       "      <th></th>\n",
       "      <th></th>\n",
       "      <th></th>\n",
       "      <th></th>\n",
       "      <th></th>\n",
       "      <th></th>\n",
       "      <th></th>\n",
       "      <th></th>\n",
       "      <th></th>\n",
       "    </tr>\n",
       "  </thead>\n",
       "  <tbody>\n",
       "    <tr>\n",
       "      <th>2015-01-02</th>\n",
       "      <td>6.409033</td>\n",
       "      <td>1.601580</td>\n",
       "      <td>NaN</td>\n",
       "      <td>2.107640</td>\n",
       "      <td>8.996696</td>\n",
       "      <td>18.853857</td>\n",
       "      <td>13.645925</td>\n",
       "      <td>12.794758</td>\n",
       "      <td>15.825444</td>\n",
       "      <td>NaN</td>\n",
       "      <td>...</td>\n",
       "      <td>6.199080</td>\n",
       "      <td>13.125120</td>\n",
       "      <td>9.332209</td>\n",
       "      <td>5.372109</td>\n",
       "      <td>8.508423</td>\n",
       "      <td>5.738757</td>\n",
       "      <td>14.271121</td>\n",
       "      <td>3.325977</td>\n",
       "      <td>NaN</td>\n",
       "      <td>23.542837</td>\n",
       "    </tr>\n",
       "    <tr>\n",
       "      <th>2015-01-05</th>\n",
       "      <td>6.357965</td>\n",
       "      <td>1.557791</td>\n",
       "      <td>NaN</td>\n",
       "      <td>1.979349</td>\n",
       "      <td>8.933780</td>\n",
       "      <td>18.288549</td>\n",
       "      <td>13.484602</td>\n",
       "      <td>12.828257</td>\n",
       "      <td>15.497068</td>\n",
       "      <td>NaN</td>\n",
       "      <td>...</td>\n",
       "      <td>5.923568</td>\n",
       "      <td>13.107328</td>\n",
       "      <td>9.165685</td>\n",
       "      <td>5.627719</td>\n",
       "      <td>8.160706</td>\n",
       "      <td>5.637442</td>\n",
       "      <td>14.271121</td>\n",
       "      <td>3.094604</td>\n",
       "      <td>NaN</td>\n",
       "      <td>23.075954</td>\n",
       "    </tr>\n",
       "    <tr>\n",
       "      <th>2015-01-06</th>\n",
       "      <td>6.204762</td>\n",
       "      <td>1.572948</td>\n",
       "      <td>NaN</td>\n",
       "      <td>1.970185</td>\n",
       "      <td>8.235435</td>\n",
       "      <td>19.065069</td>\n",
       "      <td>13.844202</td>\n",
       "      <td>13.250279</td>\n",
       "      <td>15.713656</td>\n",
       "      <td>NaN</td>\n",
       "      <td>...</td>\n",
       "      <td>6.169565</td>\n",
       "      <td>13.759787</td>\n",
       "      <td>9.158733</td>\n",
       "      <td>5.668880</td>\n",
       "      <td>8.036522</td>\n",
       "      <td>5.861782</td>\n",
       "      <td>14.228648</td>\n",
       "      <td>3.094604</td>\n",
       "      <td>NaN</td>\n",
       "      <td>22.503265</td>\n",
       "    </tr>\n",
       "    <tr>\n",
       "      <th>2015-01-07</th>\n",
       "      <td>6.082197</td>\n",
       "      <td>1.635263</td>\n",
       "      <td>NaN</td>\n",
       "      <td>1.961022</td>\n",
       "      <td>8.682124</td>\n",
       "      <td>18.760672</td>\n",
       "      <td>14.455486</td>\n",
       "      <td>13.776808</td>\n",
       "      <td>16.405365</td>\n",
       "      <td>NaN</td>\n",
       "      <td>...</td>\n",
       "      <td>6.248280</td>\n",
       "      <td>14.234234</td>\n",
       "      <td>9.262775</td>\n",
       "      <td>5.833505</td>\n",
       "      <td>8.444556</td>\n",
       "      <td>6.064411</td>\n",
       "      <td>14.525964</td>\n",
       "      <td>3.181369</td>\n",
       "      <td>NaN</td>\n",
       "      <td>23.275162</td>\n",
       "    </tr>\n",
       "    <tr>\n",
       "      <th>2015-01-08</th>\n",
       "      <td>6.087307</td>\n",
       "      <td>1.613366</td>\n",
       "      <td>NaN</td>\n",
       "      <td>2.016003</td>\n",
       "      <td>8.430469</td>\n",
       "      <td>18.704765</td>\n",
       "      <td>14.487509</td>\n",
       "      <td>13.847818</td>\n",
       "      <td>16.461258</td>\n",
       "      <td>NaN</td>\n",
       "      <td>...</td>\n",
       "      <td>6.169565</td>\n",
       "      <td>14.082994</td>\n",
       "      <td>9.117104</td>\n",
       "      <td>5.762023</td>\n",
       "      <td>8.441010</td>\n",
       "      <td>5.869018</td>\n",
       "      <td>14.576930</td>\n",
       "      <td>3.297056</td>\n",
       "      <td>NaN</td>\n",
       "      <td>24.221355</td>\n",
       "    </tr>\n",
       "  </tbody>\n",
       "</table>\n",
       "<p>5 rows × 122 columns</p>\n",
       "</div>"
      ],
      "text/plain": [
       "               ABCB4     B3SA3  BIDI4     BPAN4     BRSR6      BBSE3  \\\n",
       "Date                                                                   \n",
       "2015-01-02  6.409033  1.601580    NaN  2.107640  8.996696  18.853857   \n",
       "2015-01-05  6.357965  1.557791    NaN  1.979349  8.933780  18.288549   \n",
       "2015-01-06  6.204762  1.572948    NaN  1.970185  8.235435  19.065069   \n",
       "2015-01-07  6.082197  1.635263    NaN  1.961022  8.682124  18.760672   \n",
       "2015-01-08  6.087307  1.613366    NaN  2.016003  8.430469  18.704765   \n",
       "\n",
       "                BBDC3      BBDC4      BBAS3  BPAC11  ...     LPSB3      MULT3  \\\n",
       "Date                                                 ...                        \n",
       "2015-01-02  13.645925  12.794758  15.825444     NaN  ...  6.199080  13.125120   \n",
       "2015-01-05  13.484602  12.828257  15.497068     NaN  ...  5.923568  13.107328   \n",
       "2015-01-06  13.844202  13.250279  15.713656     NaN  ...  6.169565  13.759787   \n",
       "2015-01-07  14.455486  13.776808  16.405365     NaN  ...  6.248280  14.234234   \n",
       "2015-01-08  14.487509  13.847818  16.461258     NaN  ...  6.169565  14.082994   \n",
       "\n",
       "               CMIG3     CSMG3     CPLE3     ELET6      SBSP3     SAPR4  \\\n",
       "Date                                                                      \n",
       "2015-01-02  9.332209  5.372109  8.508423  5.738757  14.271121  3.325977   \n",
       "2015-01-05  9.165685  5.627719  8.160706  5.637442  14.271121  3.094604   \n",
       "2015-01-06  9.158733  5.668880  8.036522  5.861782  14.228648  3.094604   \n",
       "2015-01-07  9.262775  5.833505  8.444556  6.064411  14.525964  3.181369   \n",
       "2015-01-08  9.117104  5.762023  8.441010  5.869018  14.576930  3.297056   \n",
       "\n",
       "            SAPR11      VIVT3  \n",
       "Date                           \n",
       "2015-01-02     NaN  23.542837  \n",
       "2015-01-05     NaN  23.075954  \n",
       "2015-01-06     NaN  22.503265  \n",
       "2015-01-07     NaN  23.275162  \n",
       "2015-01-08     NaN  24.221355  \n",
       "\n",
       "[5 rows x 122 columns]"
      ]
     },
     "execution_count": 2,
     "metadata": {},
     "output_type": "execute_result"
    }
   ],
   "source": [
    "# Importing packages\n",
    "import pandas as pd\n",
    "from portfoliolab.clustering.hrp import HierarchicalRiskParity\n",
    "import seaborn as sns\n",
    "import pandas as pd\n",
    "import yfinance as yf\n",
    "import matplotlib.pyplot as plt\n",
    "import numpy as np\n",
    "import math\n",
    "from pandas_datareader import data\n",
    "from tqdm import tqdm\n",
    "import random\n",
    "from pandas_datareader import data as wb\n",
    "\n",
    "start_date = '2015-01-01'\n",
    "end_date='2018-12-31'\n",
    "\n",
    "output = None\n",
    "sym=[]\n",
    "for sy in tqdm(Symbols): \n",
    "    try: \n",
    "        stock=data.DataReader(sy, 'yahoo',  start_date, end_date)[\"Adj Close\"]\n",
    "        \n",
    "        if output is None:\n",
    "            df = stock\n",
    "            output = df    \n",
    "            sym.append(sy[:-3])\n",
    "        else:\n",
    "            df = stock\n",
    "            output=pd.concat([output,df],axis=1)     \n",
    "            sym.append(sy[:-3])\n",
    "    except:\n",
    "        print(\"Erro \"+sy)\n",
    "output.columns=sym\n",
    "output.head()"
   ]
  },
  {
   "cell_type": "markdown",
   "metadata": {},
   "source": [
    "<b>Tratando os dados para excluir ativos sem histórico suficiente</b>  \n",
    "\n"
   ]
  },
  {
   "cell_type": "code",
   "execution_count": 3,
   "metadata": {},
   "outputs": [
    {
     "data": {
      "text/plain": [
       "['Erros', 9648, 'Ativos', 122]"
      ]
     },
     "execution_count": 3,
     "metadata": {},
     "output_type": "execute_result"
    },
    {
     "data": {
      "image/png": "[encoded data removed]",
      "text/plain": [
       "<Figure size 2880x720 with 1 Axes>"
      ]
     },
     "metadata": {
      "needs_background": "light"
     },
     "output_type": "display_data"
    }
   ],
   "source": [
    "plt.figure(figsize=(40,10))\n",
    "sns.heatmap(output.isnull(),  cbar=False, cmap = 'summer')\n",
    "[\"Erros\",np.sum(output.isnull().sum()),\"Ativos\",len(output.columns)]"
   ]
  },
  {
   "cell_type": "code",
   "execution_count": 4,
   "metadata": {},
   "outputs": [
    {
     "data": {
      "text/plain": [
       "['Erros', 0, 'Ativos', 108]"
      ]
     },
     "execution_count": 4,
     "metadata": {},
     "output_type": "execute_result"
    },
    {
     "data": {
      "image/png": "[encoded data removed]",
      "text/plain": [
       "<Figure size 2880x720 with 1 Axes>"
      ]
     },
     "metadata": {
      "needs_background": "light"
     },
     "output_type": "display_data"
    }
   ],
   "source": [
    "output=output.dropna(axis='columns')\n",
    "plt.figure(figsize=(40,10))\n",
    "sns.heatmap(output.isnull(),  cbar=False, cmap = 'summer')\n",
    "[\"Erros\",np.sum(output.isnull().sum()),\"Ativos\",len(output.columns)]"
   ]
  },
  {
   "cell_type": "markdown",
   "metadata": {},
   "source": [
    "<b>Escolhas da quantidade de ativos \"N\" e print dos ativos escolhidos</b>  "
   ]
  },
  {
   "cell_type": "code",
   "execution_count": 5,
   "metadata": {},
   "outputs": [],
   "source": [
    "N=10 #Número de papéis da carteira\n",
    "escolhas=random.sample(list(output.columns), N)"
   ]
  },
  {
   "cell_type": "code",
   "execution_count": 6,
   "metadata": {},
   "outputs": [],
   "source": [
    "preços=output[escolhas]"
   ]
  },
  {
   "cell_type": "markdown",
   "metadata": {},
   "source": [
    "<b>Print do histórico diário dos ativos selecionados</b>  "
   ]
  },
  {
   "cell_type": "code",
   "execution_count": 7,
   "metadata": {
    "scrolled": true
   },
   "outputs": [
    {
     "data": {
      "text/html": [
       "<div>\n",
       "<style scoped>\n",
       "    .dataframe tbody tr th:only-of-type {\n",
       "        vertical-align: middle;\n",
       "    }\n",
       "\n",
       "    .dataframe tbody tr th {\n",
       "        vertical-align: top;\n",
       "    }\n",
       "\n",
       "    .dataframe thead th {\n",
       "        text-align: right;\n",
       "    }\n",
       "</style>\n",
       "<table border=\"1\" class=\"dataframe\">\n",
       "  <thead>\n",
       "    <tr style=\"text-align: right;\">\n",
       "      <th></th>\n",
       "      <th>YDUQ3</th>\n",
       "      <th>ITUB3</th>\n",
       "      <th>CIEL3</th>\n",
       "      <th>DTEX3</th>\n",
       "      <th>MEAL3</th>\n",
       "      <th>RADL3</th>\n",
       "      <th>WEGE3</th>\n",
       "      <th>QUAL3</th>\n",
       "      <th>LIGT3</th>\n",
       "      <th>MULT3</th>\n",
       "    </tr>\n",
       "    <tr>\n",
       "      <th>Date</th>\n",
       "      <th></th>\n",
       "      <th></th>\n",
       "      <th></th>\n",
       "      <th></th>\n",
       "      <th></th>\n",
       "      <th></th>\n",
       "      <th></th>\n",
       "      <th></th>\n",
       "      <th></th>\n",
       "      <th></th>\n",
       "    </tr>\n",
       "  </thead>\n",
       "  <tbody>\n",
       "    <tr>\n",
       "      <th>2015-01-02</th>\n",
       "      <td>16.707964</td>\n",
       "      <td>11.929143</td>\n",
       "      <td>17.443592</td>\n",
       "      <td>6.158757</td>\n",
       "      <td>11.773314</td>\n",
       "      <td>4.584503</td>\n",
       "      <td>10.418848</td>\n",
       "      <td>17.092577</td>\n",
       "      <td>15.393254</td>\n",
       "      <td>13.125120</td>\n",
       "    </tr>\n",
       "    <tr>\n",
       "      <th>2015-01-05</th>\n",
       "      <td>15.707761</td>\n",
       "      <td>11.794489</td>\n",
       "      <td>16.850760</td>\n",
       "      <td>6.206870</td>\n",
       "      <td>11.523879</td>\n",
       "      <td>4.553317</td>\n",
       "      <td>10.489826</td>\n",
       "      <td>17.245928</td>\n",
       "      <td>14.759415</td>\n",
       "      <td>13.107328</td>\n",
       "    </tr>\n",
       "    <tr>\n",
       "      <th>2015-01-06</th>\n",
       "      <td>14.790909</td>\n",
       "      <td>11.909864</td>\n",
       "      <td>16.512609</td>\n",
       "      <td>6.126680</td>\n",
       "      <td>11.025010</td>\n",
       "      <td>4.685403</td>\n",
       "      <td>10.334238</td>\n",
       "      <td>17.501522</td>\n",
       "      <td>15.393254</td>\n",
       "      <td>13.759787</td>\n",
       "    </tr>\n",
       "    <tr>\n",
       "      <th>2015-01-07</th>\n",
       "      <td>14.328691</td>\n",
       "      <td>12.179256</td>\n",
       "      <td>16.666277</td>\n",
       "      <td>6.319138</td>\n",
       "      <td>10.975121</td>\n",
       "      <td>4.766123</td>\n",
       "      <td>10.215861</td>\n",
       "      <td>17.252321</td>\n",
       "      <td>15.357035</td>\n",
       "      <td>14.234234</td>\n",
       "    </tr>\n",
       "    <tr>\n",
       "      <th>2015-01-08</th>\n",
       "      <td>14.775753</td>\n",
       "      <td>12.352393</td>\n",
       "      <td>17.127371</td>\n",
       "      <td>6.375276</td>\n",
       "      <td>10.615937</td>\n",
       "      <td>4.778964</td>\n",
       "      <td>10.388328</td>\n",
       "      <td>16.958391</td>\n",
       "      <td>15.574352</td>\n",
       "      <td>14.082994</td>\n",
       "    </tr>\n",
       "    <tr>\n",
       "      <th>...</th>\n",
       "      <td>...</td>\n",
       "      <td>...</td>\n",
       "      <td>...</td>\n",
       "      <td>...</td>\n",
       "      <td>...</td>\n",
       "      <td>...</td>\n",
       "      <td>...</td>\n",
       "      <td>...</td>\n",
       "      <td>...</td>\n",
       "      <td>...</td>\n",
       "    </tr>\n",
       "    <tr>\n",
       "      <th>2018-12-20</th>\n",
       "      <td>22.127241</td>\n",
       "      <td>26.866871</td>\n",
       "      <td>8.235406</td>\n",
       "      <td>10.656434</td>\n",
       "      <td>6.739077</td>\n",
       "      <td>11.383307</td>\n",
       "      <td>16.715281</td>\n",
       "      <td>11.328687</td>\n",
       "      <td>15.828190</td>\n",
       "      <td>22.476786</td>\n",
       "    </tr>\n",
       "    <tr>\n",
       "      <th>2018-12-21</th>\n",
       "      <td>21.690958</td>\n",
       "      <td>26.416079</td>\n",
       "      <td>8.280905</td>\n",
       "      <td>10.309655</td>\n",
       "      <td>6.978688</td>\n",
       "      <td>11.647390</td>\n",
       "      <td>16.802488</td>\n",
       "      <td>11.113311</td>\n",
       "      <td>15.557456</td>\n",
       "      <td>22.053965</td>\n",
       "    </tr>\n",
       "    <tr>\n",
       "      <th>2018-12-26</th>\n",
       "      <td>21.340031</td>\n",
       "      <td>26.145607</td>\n",
       "      <td>8.080708</td>\n",
       "      <td>10.534594</td>\n",
       "      <td>6.988672</td>\n",
       "      <td>11.391190</td>\n",
       "      <td>16.522017</td>\n",
       "      <td>10.932397</td>\n",
       "      <td>15.557456</td>\n",
       "      <td>21.986696</td>\n",
       "    </tr>\n",
       "    <tr>\n",
       "      <th>2018-12-27</th>\n",
       "      <td>22.041880</td>\n",
       "      <td>26.587381</td>\n",
       "      <td>7.916908</td>\n",
       "      <td>10.872001</td>\n",
       "      <td>6.988672</td>\n",
       "      <td>11.265059</td>\n",
       "      <td>16.648359</td>\n",
       "      <td>10.854862</td>\n",
       "      <td>15.953885</td>\n",
       "      <td>22.611320</td>\n",
       "    </tr>\n",
       "    <tr>\n",
       "      <th>2018-12-28</th>\n",
       "      <td>22.535074</td>\n",
       "      <td>27.102005</td>\n",
       "      <td>8.089807</td>\n",
       "      <td>11.087565</td>\n",
       "      <td>7.078526</td>\n",
       "      <td>11.263087</td>\n",
       "      <td>17.046829</td>\n",
       "      <td>11.104697</td>\n",
       "      <td>15.953885</td>\n",
       "      <td>23.360865</td>\n",
       "    </tr>\n",
       "  </tbody>\n",
       "</table>\n",
       "<p>994 rows × 10 columns</p>\n",
       "</div>"
      ],
      "text/plain": [
       "                YDUQ3      ITUB3      CIEL3      DTEX3      MEAL3      RADL3  \\\n",
       "Date                                                                           \n",
       "2015-01-02  16.707964  11.929143  17.443592   6.158757  11.773314   4.584503   \n",
       "2015-01-05  15.707761  11.794489  16.850760   6.206870  11.523879   4.553317   \n",
       "2015-01-06  14.790909  11.909864  16.512609   6.126680  11.025010   4.685403   \n",
       "2015-01-07  14.328691  12.179256  16.666277   6.319138  10.975121   4.766123   \n",
       "2015-01-08  14.775753  12.352393  17.127371   6.375276  10.615937   4.778964   \n",
       "...               ...        ...        ...        ...        ...        ...   \n",
       "2018-12-20  22.127241  26.866871   8.235406  10.656434   6.739077  11.383307   \n",
       "2018-12-21  21.690958  26.416079   8.280905  10.309655   6.978688  11.647390   \n",
       "2018-12-26  21.340031  26.145607   8.080708  10.534594   6.988672  11.391190   \n",
       "2018-12-27  22.041880  26.587381   7.916908  10.872001   6.988672  11.265059   \n",
       "2018-12-28  22.535074  27.102005   8.089807  11.087565   7.078526  11.263087   \n",
       "\n",
       "                WEGE3      QUAL3      LIGT3      MULT3  \n",
       "Date                                                    \n",
       "2015-01-02  10.418848  17.092577  15.393254  13.125120  \n",
       "2015-01-05  10.489826  17.245928  14.759415  13.107328  \n",
       "2015-01-06  10.334238  17.501522  15.393254  13.759787  \n",
       "2015-01-07  10.215861  17.252321  15.357035  14.234234  \n",
       "2015-01-08  10.388328  16.958391  15.574352  14.082994  \n",
       "...               ...        ...        ...        ...  \n",
       "2018-12-20  16.715281  11.328687  15.828190  22.476786  \n",
       "2018-12-21  16.802488  11.113311  15.557456  22.053965  \n",
       "2018-12-26  16.522017  10.932397  15.557456  21.986696  \n",
       "2018-12-27  16.648359  10.854862  15.953885  22.611320  \n",
       "2018-12-28  17.046829  11.104697  15.953885  23.360865  \n",
       "\n",
       "[994 rows x 10 columns]"
      ]
     },
     "execution_count": 7,
     "metadata": {},
     "output_type": "execute_result"
    }
   ],
   "source": [
    "preços"
   ]
  },
  {
   "cell_type": "markdown",
   "metadata": {},
   "source": [
    "<b>Plot do histórico de preços na forma de gráfico</b>  "
   ]
  },
  {
   "cell_type": "code",
   "execution_count": 8,
   "metadata": {},
   "outputs": [
    {
     "data": {
      "image/png": "[encoded data removed]",
      "text/plain": [
       "<Figure size 432x288 with 1 Axes>"
      ]
     },
     "metadata": {
      "needs_background": "light"
     },
     "output_type": "display_data"
    }
   ],
   "source": [
    "preços.plot()\n",
    "plt.show()"
   ]
  },
  {
   "cell_type": "markdown",
   "metadata": {},
   "source": [
    "<b>Plot dos retornos dos ativos</b>  "
   ]
  },
  {
   "cell_type": "code",
   "execution_count": 9,
   "metadata": {},
   "outputs": [
    {
     "data": {
      "image/png": "[encoded data removed]",
      "text/plain": [
       "<Figure size 432x288 with 1 Axes>"
      ]
     },
     "metadata": {
      "needs_background": "light"
     },
     "output_type": "display_data"
    }
   ],
   "source": [
    "retornos = preços.pct_change().iloc[1:]\n",
    "\n",
    "retornos.plot()\n",
    "plt.show()"
   ]
  },
  {
   "cell_type": "markdown",
   "metadata": {},
   "source": [
    "<b>Plot da tabela com resumo estatístico dos retornos</b>  "
   ]
  },
  {
   "cell_type": "code",
   "execution_count": 10,
   "metadata": {},
   "outputs": [
    {
     "data": {
      "text/html": [
       "<div>\n",
       "<style scoped>\n",
       "    .dataframe tbody tr th:only-of-type {\n",
       "        vertical-align: middle;\n",
       "    }\n",
       "\n",
       "    .dataframe tbody tr th {\n",
       "        vertical-align: top;\n",
       "    }\n",
       "\n",
       "    .dataframe thead th {\n",
       "        text-align: right;\n",
       "    }\n",
       "</style>\n",
       "<table border=\"1\" class=\"dataframe\">\n",
       "  <thead>\n",
       "    <tr style=\"text-align: right;\">\n",
       "      <th></th>\n",
       "      <th>YDUQ3</th>\n",
       "      <th>ITUB3</th>\n",
       "      <th>CIEL3</th>\n",
       "      <th>DTEX3</th>\n",
       "      <th>MEAL3</th>\n",
       "      <th>RADL3</th>\n",
       "      <th>WEGE3</th>\n",
       "      <th>QUAL3</th>\n",
       "      <th>LIGT3</th>\n",
       "      <th>MULT3</th>\n",
       "    </tr>\n",
       "  </thead>\n",
       "  <tbody>\n",
       "    <tr>\n",
       "      <th>count</th>\n",
       "      <td>993.000000</td>\n",
       "      <td>993.000000</td>\n",
       "      <td>993.000000</td>\n",
       "      <td>993.000000</td>\n",
       "      <td>993.000000</td>\n",
       "      <td>993.000000</td>\n",
       "      <td>993.000000</td>\n",
       "      <td>993.000000</td>\n",
       "      <td>993.000000</td>\n",
       "      <td>993.000000</td>\n",
       "    </tr>\n",
       "    <tr>\n",
       "      <th>mean</th>\n",
       "      <td>0.000824</td>\n",
       "      <td>0.000982</td>\n",
       "      <td>-0.000559</td>\n",
       "      <td>0.000905</td>\n",
       "      <td>-0.000164</td>\n",
       "      <td>0.001076</td>\n",
       "      <td>0.000661</td>\n",
       "      <td>-0.000037</td>\n",
       "      <td>0.000522</td>\n",
       "      <td>0.000754</td>\n",
       "    </tr>\n",
       "    <tr>\n",
       "      <th>std</th>\n",
       "      <td>0.032394</td>\n",
       "      <td>0.017600</td>\n",
       "      <td>0.020680</td>\n",
       "      <td>0.025088</td>\n",
       "      <td>0.026297</td>\n",
       "      <td>0.018511</td>\n",
       "      <td>0.018156</td>\n",
       "      <td>0.027735</td>\n",
       "      <td>0.031378</td>\n",
       "      <td>0.018602</td>\n",
       "    </tr>\n",
       "    <tr>\n",
       "      <th>min</th>\n",
       "      <td>-0.150388</td>\n",
       "      <td>-0.099170</td>\n",
       "      <td>-0.097484</td>\n",
       "      <td>-0.131799</td>\n",
       "      <td>-0.196356</td>\n",
       "      <td>-0.064206</td>\n",
       "      <td>-0.091045</td>\n",
       "      <td>-0.293689</td>\n",
       "      <td>-0.195652</td>\n",
       "      <td>-0.124473</td>\n",
       "    </tr>\n",
       "    <tr>\n",
       "      <th>25%</th>\n",
       "      <td>-0.017399</td>\n",
       "      <td>-0.008892</td>\n",
       "      <td>-0.012276</td>\n",
       "      <td>-0.014511</td>\n",
       "      <td>-0.014309</td>\n",
       "      <td>-0.010645</td>\n",
       "      <td>-0.010711</td>\n",
       "      <td>-0.015360</td>\n",
       "      <td>-0.016438</td>\n",
       "      <td>-0.010281</td>\n",
       "    </tr>\n",
       "    <tr>\n",
       "      <th>50%</th>\n",
       "      <td>0.000526</td>\n",
       "      <td>0.000951</td>\n",
       "      <td>-0.001041</td>\n",
       "      <td>0.000000</td>\n",
       "      <td>0.000000</td>\n",
       "      <td>0.000362</td>\n",
       "      <td>0.000000</td>\n",
       "      <td>0.000000</td>\n",
       "      <td>-0.001460</td>\n",
       "      <td>0.000000</td>\n",
       "    </tr>\n",
       "    <tr>\n",
       "      <th>75%</th>\n",
       "      <td>0.019278</td>\n",
       "      <td>0.011032</td>\n",
       "      <td>0.011003</td>\n",
       "      <td>0.015367</td>\n",
       "      <td>0.012500</td>\n",
       "      <td>0.012351</td>\n",
       "      <td>0.011775</td>\n",
       "      <td>0.015436</td>\n",
       "      <td>0.017107</td>\n",
       "      <td>0.011161</td>\n",
       "    </tr>\n",
       "    <tr>\n",
       "      <th>max</th>\n",
       "      <td>0.237365</td>\n",
       "      <td>0.095517</td>\n",
       "      <td>0.094376</td>\n",
       "      <td>0.130303</td>\n",
       "      <td>0.116861</td>\n",
       "      <td>0.083220</td>\n",
       "      <td>0.070989</td>\n",
       "      <td>0.109106</td>\n",
       "      <td>0.292574</td>\n",
       "      <td>0.069192</td>\n",
       "    </tr>\n",
       "  </tbody>\n",
       "</table>\n",
       "</div>"
      ],
      "text/plain": [
       "            YDUQ3       ITUB3       CIEL3       DTEX3       MEAL3       RADL3  \\\n",
       "count  993.000000  993.000000  993.000000  993.000000  993.000000  993.000000   \n",
       "mean     0.000824    0.000982   -0.000559    0.000905   -0.000164    0.001076   \n",
       "std      0.032394    0.017600    0.020680    0.025088    0.026297    0.018511   \n",
       "min     -0.150388   -0.099170   -0.097484   -0.131799   -0.196356   -0.064206   \n",
       "25%     -0.017399   -0.008892   -0.012276   -0.014511   -0.014309   -0.010645   \n",
       "50%      0.000526    0.000951   -0.001041    0.000000    0.000000    0.000362   \n",
       "75%      0.019278    0.011032    0.011003    0.015367    0.012500    0.012351   \n",
       "max      0.237365    0.095517    0.094376    0.130303    0.116861    0.083220   \n",
       "\n",
       "            WEGE3       QUAL3       LIGT3       MULT3  \n",
       "count  993.000000  993.000000  993.000000  993.000000  \n",
       "mean     0.000661   -0.000037    0.000522    0.000754  \n",
       "std      0.018156    0.027735    0.031378    0.018602  \n",
       "min     -0.091045   -0.293689   -0.195652   -0.124473  \n",
       "25%     -0.010711   -0.015360   -0.016438   -0.010281  \n",
       "50%      0.000000    0.000000   -0.001460    0.000000  \n",
       "75%      0.011775    0.015436    0.017107    0.011161  \n",
       "max      0.070989    0.109106    0.292574    0.069192  "
      ]
     },
     "execution_count": 10,
     "metadata": {},
     "output_type": "execute_result"
    }
   ],
   "source": [
    "retornos.describe()"
   ]
  },
  {
   "cell_type": "markdown",
   "metadata": {},
   "source": [
    "<div id=\"Matrizes de correlação e covariância.\">\n",
    "    <h2>2) Matrizes de correlação e covariância dos retornos.</h2>\n",
    "</div>"
   ]
  },
  {
   "cell_type": "markdown",
   "metadata": {},
   "source": [
    "  <p> Considerando o escopo que envolve multiplos ativos, o processo operacional passa a ser matricial. Assim, a expectativa de retorno, $\\boldsymbol{\\mu}$, é um vetor de tamanho <b> Nx1</b> é definido como\n",
    " </p>&emsp;\n",
    "\n",
    "\n"
   ]
  },
  {
   "cell_type": "markdown",
   "metadata": {},
   "source": [
    " <li>$\\textbf{r}(n)  = [r_1(n) \\ r_2(n)  \\ ... \\ r_N(n) ]^T$  </li> &emsp;\n",
    "  <li>$\\boldsymbol{\\mu}  = [\\mu_1 \\ \\mu_2  \\ ... \\ \\mu_N ]^T$</li> &emsp; \n",
    "  <p> E as matrizes  de   covariâcia  ($\\textbf{C}$)  e   correlação  ($\\textbf{P}$)  para  ativos  do  portfolio são </p>\n",
    "   &emsp;\n",
    "  <li>$\\textbf{C} = [C_ {ij}]=E\\{r_i(n)r_j(n)\\}-\\mu_i\\mu_j$ </li>\n",
    "  <p></p>\n",
    "  <li>$\\textbf{P} = [P_ {ij}]=\\frac{E\\{r_i(n)r_j(n)\\}-\\mu_i\\mu_j}{\\sigma_i\\sigma_j}$</li>\n",
    "  <p>Determinando a matriz diagonal de volatilidade de tamanho $NxN$ como</p>  &emsp;\n",
    "  <li> $\\sum=\\begin{bmatrix}\n",
    "    \\sigma_1 & . & . & 0  \\\\\n",
    "    . & \\sigma_2 & . & .  \\\\\n",
    "    . & . & . & .  \\\\\n",
    "    0 & . & . & \\sigma_N \n",
    "  \\end{bmatrix}  $ </li> &emsp;\n",
    "  <p>É possível identificar</p>  &emsp;\n",
    "  <li>$\\textbf{C}=E\\{\\textbf{r}(n)\\textbf{r}^T(n)\\}-\\boldsymbol{\\mu}\\boldsymbol{\\mu}^T=\\sum^T\\textbf{P}\\sum$</li>"
   ]
  },
  {
   "cell_type": "markdown",
   "metadata": {},
   "source": [
    "<b>Matriz de Correlações</b>  "
   ]
  },
  {
   "cell_type": "code",
   "execution_count": 11,
   "metadata": {},
   "outputs": [
    {
     "data": {
      "text/plain": [
       "Text(0.5, 1.0, 'Correlações entre ativos ')"
      ]
     },
     "execution_count": 11,
     "metadata": {},
     "output_type": "execute_result"
    },
    {
     "data": {
      "image/png": "[encoded data removed]",
      "text/plain": [
       "<Figure size 720x288 with 2 Axes>"
      ]
     },
     "metadata": {
      "needs_background": "light"
     },
     "output_type": "display_data"
    }
   ],
   "source": [
    "P=retornos.corr()\n",
    "f, ax = plt.subplots(figsize=(10, 4))\n",
    "sns.heatmap(P, annot=True, linewidths=.5, ax=ax)\n",
    "plt.yticks(rotation=0) \n",
    "ax.set_ylabel(\"Ativos\",fontsize=12)  \n",
    "ax.set_xlabel(\"Ativos\",fontsize=15)  \n",
    "ax.set_title(\"Correlações entre ativos \",fontsize=15)"
   ]
  },
  {
   "cell_type": "markdown",
   "metadata": {},
   "source": [
    "<b>Matriz de Covariância</b>  "
   ]
  },
  {
   "cell_type": "code",
   "execution_count": 12,
   "metadata": {},
   "outputs": [
    {
     "data": {
      "text/plain": [
       "Text(0.5, 1.0, 'Matriz Covariância')"
      ]
     },
     "execution_count": 12,
     "metadata": {},
     "output_type": "execute_result"
    },
    {
     "data": {
      "image/png": "[encoded data removed]",
      "text/plain": [
       "<Figure size 720x288 with 2 Axes>"
      ]
     },
     "metadata": {
      "needs_background": "light"
     },
     "output_type": "display_data"
    }
   ],
   "source": [
    "C=retornos.cov()\n",
    "f, ax = plt.subplots(figsize=(10, 4))\n",
    "sns.heatmap(C, annot=False, linewidths=.5, ax=ax)\n",
    "plt.yticks(rotation=0) \n",
    "ax.set_ylabel(\"Ativos\",fontsize=12)  \n",
    "ax.set_xlabel(\"Ativos\",fontsize=15)  \n",
    "ax.set_title(\"Matriz Covariância\",fontsize=15)"
   ]
  },
  {
   "cell_type": "markdown",
   "metadata": {},
   "source": [
    "<div id=\"Cálculo dos pesos no método Hierarchical Risk Parity\">\n",
    "    <h2>3) Cálculo dos pesos no método Hierarchical Risk Parity (HRP).</h2>\n",
    "</div>"
   ]
  },
  {
   "cell_type": "markdown",
   "metadata": {},
   "source": [
    "<b>Calculado via biblioteca contendo o método criado pelo professor Marcos Lopez. Pesos já em porcentagem.</b>  "
   ]
  },
  {
   "cell_type": "code",
   "execution_count": 13,
   "metadata": {},
   "outputs": [
    {
     "name": "stdout",
     "output_type": "stream",
     "text": [
      "       MEAL3     QUAL3     YDUQ3      RADL3     LIGT3      CIEL3      WEGE3  \\\n",
      "0  10.053353  9.037981  6.106652  15.817236  5.504934  12.021791  15.597173   \n",
      "\n",
      "      DTEX3     ITUB3     MULT3  \n",
      "0  7.367407  9.758519  8.734952  \n"
     ]
    }
   ],
   "source": [
    "# Computing HRP weights\n",
    "hrp = HierarchicalRiskParity()\n",
    "hrp.allocate(asset_prices=preços)\n",
    "hrp_weights = hrp.weights\n",
    "print(hrp_weights*100)"
   ]
  },
  {
   "cell_type": "markdown",
   "metadata": {},
   "source": [
    "<b>Hierarquia criada pelo algoritmo HRP entre os ativos</b>  "
   ]
  },
  {
   "cell_type": "code",
   "execution_count": 14,
   "metadata": {},
   "outputs": [
    {
     "data": {
      "text/plain": [
       "Text(0.5, 1.0, 'Hierarchical Clustering Dendogram')"
      ]
     },
     "execution_count": 14,
     "metadata": {},
     "output_type": "execute_result"
    },
    {
     "data": {
      "image/png": "[encoded data removed]",
      "text/plain": [
       "<Figure size 1080x360 with 1 Axes>"
      ]
     },
     "metadata": {
      "needs_background": "light"
     },
     "output_type": "display_data"
    }
   ],
   "source": [
    "f, ax = plt.subplots(figsize=(15, 5))\n",
    "# Plot Dendrogram\n",
    "hrp.plot_clusters(assets=preços.columns)\n",
    "plt.yticks(rotation=0) \n",
    "ax.set_ylabel(\"Cluster Leaves Distance\",fontsize=12)  \n",
    "ax.set_xlabel(\"Ativos\",fontsize=15)  \n",
    "ax.set_title(\"Hierarchical Clustering Dendogram\",fontsize=15)"
   ]
  },
  {
   "cell_type": "markdown",
   "metadata": {},
   "source": [
    "<div id=\"Cálculo dos pesos no método Critical Line Algorithm\">\n",
    "    <h2>4) Cálculo dos pesos no método Critical Line Algorithm (CLA).</h2>\n",
    "</div>"
   ]
  },
  {
   "cell_type": "markdown",
   "metadata": {},
   "source": [
    "<b>Pelo algoritmo CLA também implementado pelo professor Marcelo Lopez</b>  "
   ]
  },
  {
   "cell_type": "code",
   "execution_count": 15,
   "metadata": {},
   "outputs": [],
   "source": [
    "from portfoliolab.modern_portfolio_theory import CriticalLineAlgorithm\n",
    "\n",
    "# Aquisição de dados\n",
    "preçosCLA=preços\n",
    "\n",
    "cla = CriticalLineAlgorithm(weight_bounds=(0, 1))\n",
    "\n",
    "# Minimum Variance Solution\n",
    "cla.allocate(asset_prices=preçosCLA, solution='min_volatility')\n",
    "cla_weights = cla.weights\n",
    "min_variance_value = cla.min_var # Accessing the min-variance value"
   ]
  },
  {
   "cell_type": "markdown",
   "metadata": {},
   "source": [
    "<b>Mínima variância obtida pelo método CLA</b>  "
   ]
  },
  {
   "cell_type": "code",
   "execution_count": 16,
   "metadata": {},
   "outputs": [
    {
     "data": {
      "text/plain": [
       "array([[0.01224062]])"
      ]
     },
     "execution_count": 16,
     "metadata": {},
     "output_type": "execute_result"
    }
   ],
   "source": [
    "min_variance_value"
   ]
  },
  {
   "cell_type": "markdown",
   "metadata": {},
   "source": [
    "<b>Pesos através do método CLA com restrições para não exister peso menor que zero e totalizar 100%</b>  "
   ]
  },
  {
   "cell_type": "code",
   "execution_count": 17,
   "metadata": {},
   "outputs": [
    {
     "data": {
      "text/html": [
       "<div>\n",
       "<style scoped>\n",
       "    .dataframe tbody tr th:only-of-type {\n",
       "        vertical-align: middle;\n",
       "    }\n",
       "\n",
       "    .dataframe tbody tr th {\n",
       "        vertical-align: top;\n",
       "    }\n",
       "\n",
       "    .dataframe thead th {\n",
       "        text-align: right;\n",
       "    }\n",
       "</style>\n",
       "<table border=\"1\" class=\"dataframe\">\n",
       "  <thead>\n",
       "    <tr style=\"text-align: right;\">\n",
       "      <th></th>\n",
       "      <th>Pesos</th>\n",
       "    </tr>\n",
       "  </thead>\n",
       "  <tbody>\n",
       "    <tr>\n",
       "      <th>YDUQ3</th>\n",
       "      <td>0.008097</td>\n",
       "    </tr>\n",
       "    <tr>\n",
       "      <th>ITUB3</th>\n",
       "      <td>0.122524</td>\n",
       "    </tr>\n",
       "    <tr>\n",
       "      <th>CIEL3</th>\n",
       "      <td>0.129512</td>\n",
       "    </tr>\n",
       "    <tr>\n",
       "      <th>DTEX3</th>\n",
       "      <td>0.003445</td>\n",
       "    </tr>\n",
       "    <tr>\n",
       "      <th>MEAL3</th>\n",
       "      <td>0.129456</td>\n",
       "    </tr>\n",
       "    <tr>\n",
       "      <th>RADL3</th>\n",
       "      <td>0.217953</td>\n",
       "    </tr>\n",
       "    <tr>\n",
       "      <th>WEGE3</th>\n",
       "      <td>0.228527</td>\n",
       "    </tr>\n",
       "    <tr>\n",
       "      <th>QUAL3</th>\n",
       "      <td>0.044875</td>\n",
       "    </tr>\n",
       "    <tr>\n",
       "      <th>LIGT3</th>\n",
       "      <td>0.014882</td>\n",
       "    </tr>\n",
       "    <tr>\n",
       "      <th>MULT3</th>\n",
       "      <td>0.100728</td>\n",
       "    </tr>\n",
       "  </tbody>\n",
       "</table>\n",
       "</div>"
      ],
      "text/plain": [
       "          Pesos\n",
       "YDUQ3  0.008097\n",
       "ITUB3  0.122524\n",
       "CIEL3  0.129512\n",
       "DTEX3  0.003445\n",
       "MEAL3  0.129456\n",
       "RADL3  0.217953\n",
       "WEGE3  0.228527\n",
       "QUAL3  0.044875\n",
       "LIGT3  0.014882\n",
       "MULT3  0.100728"
      ]
     },
     "execution_count": 17,
     "metadata": {},
     "output_type": "execute_result"
    }
   ],
   "source": [
    "pesosCLA=cla_weights.T\n",
    "pesosCLA.columns=['Pesos']\n",
    "\n",
    "pesosCLA\n"
   ]
  },
  {
   "cell_type": "code",
   "execution_count": 18,
   "metadata": {},
   "outputs": [],
   "source": [
    "matrixpesos=np.array([pesosCLA['Pesos']])"
   ]
  },
  {
   "cell_type": "code",
   "execution_count": 19,
   "metadata": {},
   "outputs": [],
   "source": [
    "\n",
    "retornos = preços.pct_change().iloc[1:]\n",
    "\n",
    "sig=retornos.std()\n",
    "\n",
    "I=pd.DataFrame(np.identity(len(C)))\n",
    "\n",
    "SIGMA=(C*(I.values))**0.5\n"
   ]
  },
  {
   "cell_type": "markdown",
   "metadata": {},
   "source": [
    "<div id=\"Plot de carteiras aleatórias e Fronteira de Markowitz\">\n",
    "    <h2>5) Plot de carteiras aleatórias e Fronteira de Markowitz.</h2>\n",
    "</div>"
   ]
  },
  {
   "cell_type": "markdown",
   "metadata": {},
   "source": [
    "  <p> Em uma carteira de <b>N-ativos\n",
    "para compor o portfolio</b>. O retorno é expresso como </p>&emsp;\n",
    "  <li>$r_p=\\textbf{q}^T\\textbf{r}=\\sum_{i=1}^{n}q_ir_i$  </li> &emsp;\n",
    "   <p>Onde $q$ e um vetor $Nx1$ relacionado à alocação de capital e definido por</p>\n",
    "   &emsp;\n",
    "  <li>$\\boldsymbol{q}  = [q_1 \\ q_2  \\ ... \\ q_N ]^T$ </li>\n",
    "  <p></p>\n",
    "  <p>Assim, a <b>expectativa de retorno</b> do portfolio é calculado por</p>  &emsp;\n",
    "  <li> $\\mu_p = E\\{r_p\\} = \\boldsymbol{q}^T E\\{\\textbf{r}\\} = \\boldsymbol{q}^T  \\boldsymbol{\\mu} $  </li> &emsp;\n",
    "   <p>E o seu <b>risco</b> como</p>  &emsp;\n",
    "  <li> $\\sigma_p = (E\\{r_p^2 \\}-\\mu_p^2)^{1/2}= (\\boldsymbol{q}^T  \\textbf{C} \\boldsymbol{q})^{1/2}$  </li> &emsp;"
   ]
  },
  {
   "cell_type": "markdown",
   "metadata": {},
   "source": [
    "<b>Função para criar diversos portifólios aleatórios</b>  "
   ]
  },
  {
   "cell_type": "code",
   "execution_count": 20,
   "metadata": {},
   "outputs": [
    {
     "name": "stderr",
     "output_type": "stream",
     "text": [
      "100%|██████████| 1000/1000 [00:01<00:00, 818.13it/s]\n"
     ]
    }
   ],
   "source": [
    "def Portfolios(ret,ports):\n",
    "    retp=[]\n",
    "    risp=[]\n",
    "    pesos=[]\n",
    "    C=ret.cov()\n",
    "    MU=ret.mean()\n",
    "    SIG=ret.std()\n",
    "    N=len(ret.columns)\n",
    "    for i in tqdm(range(ports)):\n",
    "        q = [random.randint(0,10000) for i in range(1,N+1)]\n",
    "        s = sum(q)\n",
    "        q = [ i/s for i in q ]\n",
    "\n",
    "        pesos.append(q)\n",
    "        retp.append(np.dot(pd.DataFrame(q).transpose(),MU)[0])\n",
    "        risp.append(np.sqrt(np.dot(np.dot(pd.DataFrame(q).transpose(),C),pd.DataFrame(q)))[0][0])\n",
    "    return retp, risp, SIG, MU, pesos\n",
    "    \n",
    "retp, risp, SIG, MU, pesos = Portfolios(retornos,1000)"
   ]
  },
  {
   "cell_type": "markdown",
   "metadata": {},
   "source": [
    "<p>Na teoria moderna do portfolio, a <b>otimização do portfolio</b> é obtida minimizando o risco do portfolio, $\\sigma_p$, com a restrição de que o retorno esperado do portfolio, $\\mu_p$, seja igual a uma constante, $\\mu$ , ou seja, \n",
    "</p> \n"
   ]
  },
  {
   "cell_type": "markdown",
   "metadata": {},
   "source": [
    "  <li>$\\mu_p = \\boldsymbol{q}^T  \\boldsymbol{\\mu} =\\sum_{i=1}^{N}q_i\\mu_i=\\mu$  </li> &emsp;\n",
    "  \n",
    "  <p> Uma restrição adicional, é o capital de investimento constante do portfolio, ou seja, </p>\n",
    "   &emsp;\n",
    "  <li>$\\boldsymbol{q}^T  \\boldsymbol{1} =\\sum_{i=1}^{N}q_i=1$ </li>\n",
    " \n",
    "  <p>O problema de minimização do risco para criar um portfolio eficiente, sujeito às restrições indicadas, pode ser resolvido com a introdução de dois multiplicadores Lagrangianos. Nós escrevemos o Lagrangiano para este problema como</p>  &emsp;\n",
    "  <li>$L(\\boldsymbol{q},\\lambda_{1},\\lambda_{2})=\\frac{1}{2}\\boldsymbol{q}^{T}\\boldsymbol{C}\\boldsymbol{q}+\\lambda_{1}(\\mu-\\boldsymbol{q}^{T}\\boldsymbol{\\mu})+\\lambda_{2}(1-\\boldsymbol{q}^{T}\\boldsymbol{1})$  </li> &emsp;\n",
    "  \n",
    "  \n",
    "  \n",
    "  <p>O vetor ótimo de alocação de investimento é calculado definindo as derivadas parciais para zero, como a seguir</p>  &emsp;\n",
    " <li>$\\frac{\\partial L(\\boldsymbol{q},\\lambda_{1},\\lambda_{2})}{\\partial \\boldsymbol{q}}=0$,\n",
    "$\\frac{\\partial L(\\boldsymbol{q},\\lambda_{1},\\lambda_{2})}{\\partial \\lambda_{1}}=0$,\n",
    "$\\frac{\\partial L(\\boldsymbol{q},\\lambda_{1},\\lambda_{2})}{\\partial \\lambda_{2}}=0$ </li> \n",
    "\n",
    " &emsp;\n",
    "   <p>Estas equações levam à seguinte solução para o investimento ideal para o vetor de alocação</p>  &emsp;\n",
    "  <li>$\n",
    "  \\boldsymbol{q}^{*} = \\frac{\n",
    "  \\begin{vmatrix} \\mu & \\boldsymbol{1}^{T}\\boldsymbol{C}^{-1}\\boldsymbol{\\mu}  \\\\ 1 & \\boldsymbol{1}^{T}\\boldsymbol{C}^{-1}\\boldsymbol{1}   \\\\  \\end{vmatrix}\\boldsymbol{C}^{-1}\\boldsymbol{\\mu} + \n",
    "  \\begin{vmatrix} \\boldsymbol{\\mu}^{T}\\boldsymbol{C}^{-1}\\boldsymbol{\\mu} & \\mu  \\\\ \\boldsymbol{\\mu}^{T}\\boldsymbol{C}^{-1}\\boldsymbol{1} & 1  \\\\  \\end{vmatrix}\\boldsymbol{C}^{-1}\\boldsymbol{1}  }\n",
    "  {\n",
    "  \\begin{vmatrix} \\boldsymbol{\\mu}^{T}\\boldsymbol{C}^{-1}\\boldsymbol{\\mu}& \\boldsymbol{1}^{T}\\boldsymbol{C}^{-1}\\boldsymbol{\\mu}  \\\\ \\boldsymbol{\\mu}^{T}\\boldsymbol{C}^{-1}\\boldsymbol{1} & \\boldsymbol{1}^{T}\\boldsymbol{C}^{-1}\\boldsymbol{1} \\\\  \\end{vmatrix}}\n",
    "$</li>\n",
    "\n"
   ]
  },
  {
   "cell_type": "markdown",
   "metadata": {},
   "source": [
    "<b>Função para criar a fronteira de Markowitz</b>  "
   ]
  },
  {
   "cell_type": "code",
   "execution_count": 21,
   "metadata": {},
   "outputs": [
    {
     "name": "stderr",
     "output_type": "stream",
     "text": [
      "100%|██████████| 1112/1112 [00:01<00:00, 819.92it/s]\n"
     ]
    }
   ],
   "source": [
    "def TPM_Fronteira(ret,N):\n",
    "    C=ret.cov()\n",
    "    MU=ret.mean()\n",
    "    ONE=np.ones(len(ret.columns))\n",
    "    a=np.dot(pd.DataFrame(MU).transpose(),np.dot(np.linalg.inv(C),pd.DataFrame(MU)))\n",
    "    b=np.dot(pd.DataFrame(ONE).transpose(),np.dot(np.linalg.inv(C),pd.DataFrame(MU)))\n",
    "    c=np.dot(pd.DataFrame(MU).transpose(),np.dot(np.linalg.inv(C),pd.DataFrame(ONE)))\n",
    "    d=np.dot(pd.DataFrame(ONE).transpose(),np.dot(np.linalg.inv(C),pd.DataFrame(ONE)))\n",
    "    target_mus=np.arange(-0.05,0.05,0.00009)\n",
    "    risk_at_target_mus=np.zeros(len(target_mus))\n",
    "    for i in tqdm(range(0, len(target_mus))):\n",
    "        target_mu=target_mus[i]\n",
    "        v1=np.linalg.det([[target_mu,b[0][0]],[1,d[0][0]]])*np.dot(np.linalg.inv(C),pd.DataFrame(MU))\n",
    "        v2=np.linalg.det([[a[0][0],target_mu],[c[0][0],1]])*np.dot(np.linalg.inv(C),pd.DataFrame(ONE))\n",
    "        v3=np.linalg.det([[a[0][0],b[0][0]],[c[0][0],d[0][0]]])\n",
    "        opt_q=(v1+v2)/v3\n",
    "        risk_at_target_mus[i]=(np.dot(np.dot(pd.DataFrame(opt_q).transpose(),C),pd.DataFrame(opt_q)))**0.5\n",
    "    return risk_at_target_mus, target_mus\n",
    "\n",
    "risk_at_target_mus, target_mus = TPM_Fronteira(retornos,10000)"
   ]
  },
  {
   "cell_type": "markdown",
   "metadata": {},
   "source": [
    "  <p>Existe apenas uma carteira eficiente na condição de <b> menor risco</b>, estabelecida pela otimização do Lagrangiano\n",
    " </p>&emsp;\n",
    "  <li>$L(\\boldsymbol{q},\\lambda)=\\frac{1}{2}\\boldsymbol{q}^{T}\\boldsymbol{C}\\boldsymbol{q}+\\lambda(1-\\boldsymbol{q}^{T}\\boldsymbol{1})$   </li> &emsp;\n",
    "   <p>ao atender as seguintes derivadas parciais para zero</p>\n",
    "   &emsp;\n",
    "  <li>$\\frac{\\partial L(\\boldsymbol{q},\\lambda)}{\\partial \\boldsymbol{q}}=0$,\n",
    "$\\frac{\\partial L(\\boldsymbol{q},\\lambda)}{\\partial \\lambda}=0$ </li>\n",
    "  <p></p>\n",
    "  <p>Essas equações levam à seguinte solução para a alocação de investimentos do vetor da carteira de risco mínimo</p>  &emsp;\n",
    "  <li>$\\boldsymbol{q}_{min} = \\frac{\\boldsymbol{C}^{-1}\\boldsymbol{1}}{\\boldsymbol{1}^{T}\\boldsymbol{C}^{-1}\\boldsymbol{1}}$  </li> &emsp;\n",
    "   <p>Reforçando, o portfólio de risco mínimo é único.</p>  "
   ]
  },
  {
   "cell_type": "code",
   "execution_count": 22,
   "metadata": {},
   "outputs": [
    {
     "data": {
      "text/plain": [
       "Text(0.5, 0, 'Risco do Capital')"
      ]
     },
     "execution_count": 22,
     "metadata": {},
     "output_type": "execute_result"
    },
    {
     "data": {
      "image/png": "[encoded data removed]",
      "text/plain": [
       "<Figure size 720x360 with 1 Axes>"
      ]
     },
     "metadata": {
      "needs_background": "light"
     },
     "output_type": "display_data"
    }
   ],
   "source": [
    "fig = plt.subplots(figsize=(10,5))\n",
    "for p in range(0,len(retp)):\n",
    "    plt.plot(risp[p], retp[p], 'g*', markersize=5.0)\n",
    "plt.axis([0.005,np.max(SIG),np.min(MU)-0.0001,np.max(MU)+0.0001])\n",
    "\n",
    "plt.plot(risk_at_target_mus,target_mus,'b*',linestyle='dashed')\n",
    "plt.title('Teoria Moderna do Portfólio - Markowitz (1952) com 1000 portifólios com pesos aleatórios')\n",
    "plt.ylabel('Retorno do Capital')\n",
    "plt.xlabel('Risco do Capital')"
   ]
  },
  {
   "cell_type": "markdown",
   "metadata": {},
   "source": [
    "<div id=\"Cálculo dos retornos e desvios para os portfólios obtidos no período de coleta de dados.\">\n",
    "    <h2>6) Cálculo dos retornos e desvios para os portfólios obtidos no período de coleta de dados.</h2>\n",
    "</div>"
   ]
  },
  {
   "cell_type": "code",
   "execution_count": 23,
   "metadata": {},
   "outputs": [],
   "source": [
    "retp=[]\n",
    "risp=[]\n",
    "q=matrixpesos.T\n",
    "C=retornos.cov()\n",
    "MU=retornos.mean()\n",
    "SIG=retornos.std()\n",
    "retp.append(np.dot(pd.DataFrame(q).transpose(),MU)[0])\n",
    "risp.append(np.sqrt(np.dot(np.dot(pd.DataFrame(q).transpose(),C),pd.DataFrame(q)))[0][0])"
   ]
  },
  {
   "cell_type": "markdown",
   "metadata": {},
   "source": [
    "<b>PESOS, RETORNOS E DESVIO PADRÃO DA CARTEIRA DE MARKOWITZ PARA O PORTFÓLIO DE MÍNIMO DESVIO</b>"
   ]
  },
  {
   "cell_type": "code",
   "execution_count": 24,
   "metadata": {},
   "outputs": [
    {
     "data": {
      "text/html": [
       "<div>\n",
       "<style scoped>\n",
       "    .dataframe tbody tr th:only-of-type {\n",
       "        vertical-align: middle;\n",
       "    }\n",
       "\n",
       "    .dataframe tbody tr th {\n",
       "        vertical-align: top;\n",
       "    }\n",
       "\n",
       "    .dataframe thead th {\n",
       "        text-align: right;\n",
       "    }\n",
       "</style>\n",
       "<table border=\"1\" class=\"dataframe\">\n",
       "  <thead>\n",
       "    <tr style=\"text-align: right;\">\n",
       "      <th></th>\n",
       "      <th>Pesos</th>\n",
       "    </tr>\n",
       "  </thead>\n",
       "  <tbody>\n",
       "    <tr>\n",
       "      <th>YDUQ3</th>\n",
       "      <td>0.809656</td>\n",
       "    </tr>\n",
       "    <tr>\n",
       "      <th>ITUB3</th>\n",
       "      <td>12.252411</td>\n",
       "    </tr>\n",
       "    <tr>\n",
       "      <th>CIEL3</th>\n",
       "      <td>12.951231</td>\n",
       "    </tr>\n",
       "    <tr>\n",
       "      <th>DTEX3</th>\n",
       "      <td>0.344537</td>\n",
       "    </tr>\n",
       "    <tr>\n",
       "      <th>MEAL3</th>\n",
       "      <td>12.945634</td>\n",
       "    </tr>\n",
       "    <tr>\n",
       "      <th>RADL3</th>\n",
       "      <td>21.795290</td>\n",
       "    </tr>\n",
       "    <tr>\n",
       "      <th>WEGE3</th>\n",
       "      <td>22.852685</td>\n",
       "    </tr>\n",
       "    <tr>\n",
       "      <th>QUAL3</th>\n",
       "      <td>4.487532</td>\n",
       "    </tr>\n",
       "    <tr>\n",
       "      <th>LIGT3</th>\n",
       "      <td>1.488226</td>\n",
       "    </tr>\n",
       "    <tr>\n",
       "      <th>MULT3</th>\n",
       "      <td>10.072797</td>\n",
       "    </tr>\n",
       "  </tbody>\n",
       "</table>\n",
       "</div>"
      ],
      "text/plain": [
       "           Pesos\n",
       "YDUQ3   0.809656\n",
       "ITUB3  12.252411\n",
       "CIEL3  12.951231\n",
       "DTEX3   0.344537\n",
       "MEAL3  12.945634\n",
       "RADL3  21.795290\n",
       "WEGE3  22.852685\n",
       "QUAL3   4.487532\n",
       "LIGT3   1.488226\n",
       "MULT3  10.072797"
      ]
     },
     "execution_count": 24,
     "metadata": {},
     "output_type": "execute_result"
    }
   ],
   "source": [
    "pesosCLA*100"
   ]
  },
  {
   "cell_type": "code",
   "execution_count": 25,
   "metadata": {},
   "outputs": [
    {
     "name": "stdout",
     "output_type": "stream",
     "text": [
      "Retorno da Carteira CLA 0.05038953641813142%\n",
      "Desvio Padrão da Carteira CLA 1.2240615488362931%\n"
     ]
    }
   ],
   "source": [
    "print('Retorno da Carteira CLA '+str(retp[0]*100)+'%') \n",
    "print('Desvio Padrão da Carteira CLA '+str(risp[0]*100)+'%')"
   ]
  },
  {
   "cell_type": "markdown",
   "metadata": {},
   "source": [
    "<b>PESOS, RETORNOS E DESVIO PADRÃO DA CARTEIRA HRP</b>"
   ]
  },
  {
   "cell_type": "code",
   "execution_count": 26,
   "metadata": {},
   "outputs": [],
   "source": [
    "pesosHRP=hrp_weights.T\n",
    "pesosHRP.columns=['Pesos']\n",
    "matrixpesosHRP=np.array([pesosHRP['Pesos']])\n",
    "#print(matrixpesosHRP)"
   ]
  },
  {
   "cell_type": "code",
   "execution_count": 27,
   "metadata": {},
   "outputs": [],
   "source": [
    "retp=[]\n",
    "risp=[]\n",
    "q=matrixpesosHRP.T\n",
    "C=retornos.cov()\n",
    "MU=retornos.mean()\n",
    "SIG=retornos.std()\n",
    "retp.append(np.dot(pd.DataFrame(q).transpose(),MU)[0])\n",
    "risp.append(np.sqrt(np.dot(np.dot(pd.DataFrame(q).transpose(),C),pd.DataFrame(q)))[0][0])"
   ]
  },
  {
   "cell_type": "markdown",
   "metadata": {},
   "source": [
    "<b>PESOS, RETORNOS E DESVIO PADRÃO DA CARTEIRA HRP</b>"
   ]
  },
  {
   "cell_type": "code",
   "execution_count": 28,
   "metadata": {},
   "outputs": [
    {
     "data": {
      "text/html": [
       "<div>\n",
       "<style scoped>\n",
       "    .dataframe tbody tr th:only-of-type {\n",
       "        vertical-align: middle;\n",
       "    }\n",
       "\n",
       "    .dataframe tbody tr th {\n",
       "        vertical-align: top;\n",
       "    }\n",
       "\n",
       "    .dataframe thead th {\n",
       "        text-align: right;\n",
       "    }\n",
       "</style>\n",
       "<table border=\"1\" class=\"dataframe\">\n",
       "  <thead>\n",
       "    <tr style=\"text-align: right;\">\n",
       "      <th></th>\n",
       "      <th>Pesos</th>\n",
       "    </tr>\n",
       "  </thead>\n",
       "  <tbody>\n",
       "    <tr>\n",
       "      <th>MEAL3</th>\n",
       "      <td>10.053353</td>\n",
       "    </tr>\n",
       "    <tr>\n",
       "      <th>QUAL3</th>\n",
       "      <td>9.037981</td>\n",
       "    </tr>\n",
       "    <tr>\n",
       "      <th>YDUQ3</th>\n",
       "      <td>6.106652</td>\n",
       "    </tr>\n",
       "    <tr>\n",
       "      <th>RADL3</th>\n",
       "      <td>15.817236</td>\n",
       "    </tr>\n",
       "    <tr>\n",
       "      <th>LIGT3</th>\n",
       "      <td>5.504934</td>\n",
       "    </tr>\n",
       "    <tr>\n",
       "      <th>CIEL3</th>\n",
       "      <td>12.021791</td>\n",
       "    </tr>\n",
       "    <tr>\n",
       "      <th>WEGE3</th>\n",
       "      <td>15.597173</td>\n",
       "    </tr>\n",
       "    <tr>\n",
       "      <th>DTEX3</th>\n",
       "      <td>7.367407</td>\n",
       "    </tr>\n",
       "    <tr>\n",
       "      <th>ITUB3</th>\n",
       "      <td>9.758519</td>\n",
       "    </tr>\n",
       "    <tr>\n",
       "      <th>MULT3</th>\n",
       "      <td>8.734952</td>\n",
       "    </tr>\n",
       "  </tbody>\n",
       "</table>\n",
       "</div>"
      ],
      "text/plain": [
       "           Pesos\n",
       "MEAL3  10.053353\n",
       "QUAL3   9.037981\n",
       "YDUQ3   6.106652\n",
       "RADL3  15.817236\n",
       "LIGT3   5.504934\n",
       "CIEL3  12.021791\n",
       "WEGE3  15.597173\n",
       "DTEX3   7.367407\n",
       "ITUB3   9.758519\n",
       "MULT3   8.734952"
      ]
     },
     "execution_count": 28,
     "metadata": {},
     "output_type": "execute_result"
    }
   ],
   "source": [
    "pesosHRP*100"
   ]
  },
  {
   "cell_type": "code",
   "execution_count": 29,
   "metadata": {},
   "outputs": [
    {
     "name": "stdout",
     "output_type": "stream",
     "text": [
      "Retorno da Carteira HRP 0.06179837065367608%\n",
      "Desvio Padrão da Carteira HRP 1.3730293859806342%\n"
     ]
    }
   ],
   "source": [
    "print('Retorno da Carteira HRP '+str(retp[0]*100)+'%') \n",
    "print('Desvio Padrão da Carteira HRP '+str(risp[0]*100)+'%')"
   ]
  },
  {
   "cell_type": "markdown",
   "metadata": {},
   "source": [
    "<div id=\"Cálculo do desempenho das carteiras no ano subsequente.\">\n",
    "    <h2>7) Cálculo do desempenho das carteiras no ano subsequente.</h2>\n",
    "</div>"
   ]
  },
  {
   "cell_type": "markdown",
   "metadata": {},
   "source": [
    "<b>AQUISIÇÃO DE DADOS PARA O ANO SEGUINTE</b>"
   ]
  },
  {
   "cell_type": "code",
   "execution_count": 30,
   "metadata": {},
   "outputs": [
    {
     "name": "stderr",
     "output_type": "stream",
     "text": [
      "100%|██████████| 10/10 [00:41<00:00,  4.11s/it]\n"
     ]
    },
    {
     "data": {
      "text/html": [
       "<div>\n",
       "<style scoped>\n",
       "    .dataframe tbody tr th:only-of-type {\n",
       "        vertical-align: middle;\n",
       "    }\n",
       "\n",
       "    .dataframe tbody tr th {\n",
       "        vertical-align: top;\n",
       "    }\n",
       "\n",
       "    .dataframe thead th {\n",
       "        text-align: right;\n",
       "    }\n",
       "</style>\n",
       "<table border=\"1\" class=\"dataframe\">\n",
       "  <thead>\n",
       "    <tr style=\"text-align: right;\">\n",
       "      <th></th>\n",
       "      <th>YDUQ3</th>\n",
       "      <th>ITUB3</th>\n",
       "      <th>CIEL3</th>\n",
       "      <th>DTEX3</th>\n",
       "      <th>MEAL3</th>\n",
       "      <th>RADL3</th>\n",
       "      <th>WEGE3</th>\n",
       "      <th>QUAL3</th>\n",
       "      <th>LIGT3</th>\n",
       "      <th>MULT3</th>\n",
       "    </tr>\n",
       "    <tr>\n",
       "      <th>Date</th>\n",
       "      <th></th>\n",
       "      <th></th>\n",
       "      <th></th>\n",
       "      <th></th>\n",
       "      <th></th>\n",
       "      <th></th>\n",
       "      <th></th>\n",
       "      <th></th>\n",
       "      <th></th>\n",
       "      <th></th>\n",
       "    </tr>\n",
       "  </thead>\n",
       "  <tbody>\n",
       "    <tr>\n",
       "      <th>2019-01-02</th>\n",
       "      <td>23.568880</td>\n",
       "      <td>28.839018</td>\n",
       "      <td>8.763200</td>\n",
       "      <td>11.359365</td>\n",
       "      <td>6.948737</td>\n",
       "      <td>11.174402</td>\n",
       "      <td>17.474461</td>\n",
       "      <td>11.750819</td>\n",
       "      <td>16.060246</td>\n",
       "      <td>24.063623</td>\n",
       "    </tr>\n",
       "    <tr>\n",
       "      <th>2019-01-03</th>\n",
       "      <td>23.549911</td>\n",
       "      <td>29.100702</td>\n",
       "      <td>8.553904</td>\n",
       "      <td>11.349993</td>\n",
       "      <td>6.888834</td>\n",
       "      <td>11.148781</td>\n",
       "      <td>17.872934</td>\n",
       "      <td>11.819739</td>\n",
       "      <td>16.756414</td>\n",
       "      <td>24.237436</td>\n",
       "    </tr>\n",
       "    <tr>\n",
       "      <th>2019-01-04</th>\n",
       "      <td>23.910318</td>\n",
       "      <td>28.613432</td>\n",
       "      <td>9.236394</td>\n",
       "      <td>11.340622</td>\n",
       "      <td>6.938753</td>\n",
       "      <td>11.308415</td>\n",
       "      <td>18.077028</td>\n",
       "      <td>11.612979</td>\n",
       "      <td>16.891781</td>\n",
       "      <td>23.744963</td>\n",
       "    </tr>\n",
       "    <tr>\n",
       "      <th>2019-01-07</th>\n",
       "      <td>23.436096</td>\n",
       "      <td>28.983400</td>\n",
       "      <td>9.154496</td>\n",
       "      <td>11.340622</td>\n",
       "      <td>6.898818</td>\n",
       "      <td>11.056154</td>\n",
       "      <td>17.795181</td>\n",
       "      <td>11.268380</td>\n",
       "      <td>16.717739</td>\n",
       "      <td>23.406992</td>\n",
       "    </tr>\n",
       "    <tr>\n",
       "      <th>2019-01-08</th>\n",
       "      <td>23.654240</td>\n",
       "      <td>29.055590</td>\n",
       "      <td>8.845098</td>\n",
       "      <td>11.209408</td>\n",
       "      <td>6.988672</td>\n",
       "      <td>11.460167</td>\n",
       "      <td>17.649401</td>\n",
       "      <td>11.457911</td>\n",
       "      <td>16.737078</td>\n",
       "      <td>23.242834</td>\n",
       "    </tr>\n",
       "  </tbody>\n",
       "</table>\n",
       "</div>"
      ],
      "text/plain": [
       "                YDUQ3      ITUB3     CIEL3      DTEX3     MEAL3      RADL3  \\\n",
       "Date                                                                         \n",
       "2019-01-02  23.568880  28.839018  8.763200  11.359365  6.948737  11.174402   \n",
       "2019-01-03  23.549911  29.100702  8.553904  11.349993  6.888834  11.148781   \n",
       "2019-01-04  23.910318  28.613432  9.236394  11.340622  6.938753  11.308415   \n",
       "2019-01-07  23.436096  28.983400  9.154496  11.340622  6.898818  11.056154   \n",
       "2019-01-08  23.654240  29.055590  8.845098  11.209408  6.988672  11.460167   \n",
       "\n",
       "                WEGE3      QUAL3      LIGT3      MULT3  \n",
       "Date                                                    \n",
       "2019-01-02  17.474461  11.750819  16.060246  24.063623  \n",
       "2019-01-03  17.872934  11.819739  16.756414  24.237436  \n",
       "2019-01-04  18.077028  11.612979  16.891781  23.744963  \n",
       "2019-01-07  17.795181  11.268380  16.717739  23.406992  \n",
       "2019-01-08  17.649401  11.457911  16.737078  23.242834  "
      ]
     },
     "execution_count": 30,
     "metadata": {},
     "output_type": "execute_result"
    }
   ],
   "source": [
    "start_date = '2019-01-01'\n",
    "end_date='2019-12-31'\n",
    "\n",
    "string = '.SA'\n",
    "my_new_list = [x + string for x in escolhas]\n",
    "\n",
    "output2 = None\n",
    "sym=[]\n",
    "df2 = pd.DataFrame()\n",
    "\n",
    "for sy in tqdm(my_new_list): \n",
    "    try: \n",
    "        stock=data.DataReader(sy, 'yahoo',  start_date, end_date)[\"Adj Close\"]\n",
    "        \n",
    "        if output2 is None:\n",
    "            df2 = stock\n",
    "            output2 = df2    \n",
    "            sym.append(sy[:-3])\n",
    "        else:\n",
    "            df2 = stock\n",
    "            output2=pd.concat([output2,df2],axis=1)     \n",
    "            sym.append(sy[:-3])\n",
    "    except:\n",
    "        print(\"Erro \"+sy)\n",
    "        \n",
    "output2.columns=sym\n",
    "output2.head()"
   ]
  },
  {
   "cell_type": "code",
   "execution_count": 31,
   "metadata": {},
   "outputs": [
    {
     "data": {
      "text/html": [
       "<div>\n",
       "<style scoped>\n",
       "    .dataframe tbody tr th:only-of-type {\n",
       "        vertical-align: middle;\n",
       "    }\n",
       "\n",
       "    .dataframe tbody tr th {\n",
       "        vertical-align: top;\n",
       "    }\n",
       "\n",
       "    .dataframe thead th {\n",
       "        text-align: right;\n",
       "    }\n",
       "</style>\n",
       "<table border=\"1\" class=\"dataframe\">\n",
       "  <thead>\n",
       "    <tr style=\"text-align: right;\">\n",
       "      <th></th>\n",
       "      <th>YDUQ3</th>\n",
       "      <th>ITUB3</th>\n",
       "      <th>CIEL3</th>\n",
       "      <th>DTEX3</th>\n",
       "      <th>MEAL3</th>\n",
       "      <th>RADL3</th>\n",
       "      <th>WEGE3</th>\n",
       "      <th>QUAL3</th>\n",
       "      <th>LIGT3</th>\n",
       "      <th>MULT3</th>\n",
       "    </tr>\n",
       "    <tr>\n",
       "      <th>Date</th>\n",
       "      <th></th>\n",
       "      <th></th>\n",
       "      <th></th>\n",
       "      <th></th>\n",
       "      <th></th>\n",
       "      <th></th>\n",
       "      <th></th>\n",
       "      <th></th>\n",
       "      <th></th>\n",
       "      <th></th>\n",
       "    </tr>\n",
       "  </thead>\n",
       "  <tbody>\n",
       "    <tr>\n",
       "      <th>2019-12-20</th>\n",
       "      <td>46.487774</td>\n",
       "      <td>29.983950</td>\n",
       "      <td>8.228002</td>\n",
       "      <td>15.013592</td>\n",
       "      <td>8.58</td>\n",
       "      <td>21.309217</td>\n",
       "      <td>33.415516</td>\n",
       "      <td>33.987556</td>\n",
       "      <td>21.745295</td>\n",
       "      <td>31.266497</td>\n",
       "    </tr>\n",
       "    <tr>\n",
       "      <th>2019-12-23</th>\n",
       "      <td>47.337925</td>\n",
       "      <td>30.375587</td>\n",
       "      <td>8.286285</td>\n",
       "      <td>15.513083</td>\n",
       "      <td>8.58</td>\n",
       "      <td>21.525749</td>\n",
       "      <td>33.354553</td>\n",
       "      <td>33.527023</td>\n",
       "      <td>22.642811</td>\n",
       "      <td>31.422779</td>\n",
       "    </tr>\n",
       "    <tr>\n",
       "      <th>2019-12-26</th>\n",
       "      <td>46.951492</td>\n",
       "      <td>30.834085</td>\n",
       "      <td>8.451429</td>\n",
       "      <td>16.108633</td>\n",
       "      <td>8.70</td>\n",
       "      <td>21.801868</td>\n",
       "      <td>34.400894</td>\n",
       "      <td>35.111263</td>\n",
       "      <td>23.179371</td>\n",
       "      <td>32.497234</td>\n",
       "    </tr>\n",
       "    <tr>\n",
       "      <th>2019-12-27</th>\n",
       "      <td>47.144707</td>\n",
       "      <td>30.719460</td>\n",
       "      <td>8.296001</td>\n",
       "      <td>16.166265</td>\n",
       "      <td>8.57</td>\n",
       "      <td>21.835640</td>\n",
       "      <td>34.884583</td>\n",
       "      <td>34.696781</td>\n",
       "      <td>23.315948</td>\n",
       "      <td>32.272579</td>\n",
       "    </tr>\n",
       "    <tr>\n",
       "      <th>2019-12-30</th>\n",
       "      <td>45.888802</td>\n",
       "      <td>30.595287</td>\n",
       "      <td>8.130858</td>\n",
       "      <td>16.060606</td>\n",
       "      <td>8.40</td>\n",
       "      <td>22.177320</td>\n",
       "      <td>34.213345</td>\n",
       "      <td>34.171772</td>\n",
       "      <td>23.179371</td>\n",
       "      <td>32.331181</td>\n",
       "    </tr>\n",
       "  </tbody>\n",
       "</table>\n",
       "</div>"
      ],
      "text/plain": [
       "                YDUQ3      ITUB3     CIEL3      DTEX3  MEAL3      RADL3  \\\n",
       "Date                                                                      \n",
       "2019-12-20  46.487774  29.983950  8.228002  15.013592   8.58  21.309217   \n",
       "2019-12-23  47.337925  30.375587  8.286285  15.513083   8.58  21.525749   \n",
       "2019-12-26  46.951492  30.834085  8.451429  16.108633   8.70  21.801868   \n",
       "2019-12-27  47.144707  30.719460  8.296001  16.166265   8.57  21.835640   \n",
       "2019-12-30  45.888802  30.595287  8.130858  16.060606   8.40  22.177320   \n",
       "\n",
       "                WEGE3      QUAL3      LIGT3      MULT3  \n",
       "Date                                                    \n",
       "2019-12-20  33.415516  33.987556  21.745295  31.266497  \n",
       "2019-12-23  33.354553  33.527023  22.642811  31.422779  \n",
       "2019-12-26  34.400894  35.111263  23.179371  32.497234  \n",
       "2019-12-27  34.884583  34.696781  23.315948  32.272579  \n",
       "2019-12-30  34.213345  34.171772  23.179371  32.331181  "
      ]
     },
     "execution_count": 31,
     "metadata": {},
     "output_type": "execute_result"
    }
   ],
   "source": [
    "output2.tail()"
   ]
  },
  {
   "cell_type": "code",
   "execution_count": 32,
   "metadata": {},
   "outputs": [],
   "source": [
    "retornoNovo = output2.pct_change()"
   ]
  },
  {
   "cell_type": "code",
   "execution_count": 33,
   "metadata": {},
   "outputs": [
    {
     "data": {
      "text/html": [
       "<div>\n",
       "<style scoped>\n",
       "    .dataframe tbody tr th:only-of-type {\n",
       "        vertical-align: middle;\n",
       "    }\n",
       "\n",
       "    .dataframe tbody tr th {\n",
       "        vertical-align: top;\n",
       "    }\n",
       "\n",
       "    .dataframe thead th {\n",
       "        text-align: right;\n",
       "    }\n",
       "</style>\n",
       "<table border=\"1\" class=\"dataframe\">\n",
       "  <thead>\n",
       "    <tr style=\"text-align: right;\">\n",
       "      <th></th>\n",
       "      <th>YDUQ3</th>\n",
       "      <th>ITUB3</th>\n",
       "      <th>CIEL3</th>\n",
       "      <th>DTEX3</th>\n",
       "      <th>MEAL3</th>\n",
       "      <th>RADL3</th>\n",
       "      <th>WEGE3</th>\n",
       "      <th>QUAL3</th>\n",
       "      <th>LIGT3</th>\n",
       "      <th>MULT3</th>\n",
       "    </tr>\n",
       "    <tr>\n",
       "      <th>Date</th>\n",
       "      <th></th>\n",
       "      <th></th>\n",
       "      <th></th>\n",
       "      <th></th>\n",
       "      <th></th>\n",
       "      <th></th>\n",
       "      <th></th>\n",
       "      <th></th>\n",
       "      <th></th>\n",
       "      <th></th>\n",
       "    </tr>\n",
       "  </thead>\n",
       "  <tbody>\n",
       "    <tr>\n",
       "      <th>2019-01-02</th>\n",
       "      <td>NaN</td>\n",
       "      <td>NaN</td>\n",
       "      <td>NaN</td>\n",
       "      <td>NaN</td>\n",
       "      <td>NaN</td>\n",
       "      <td>NaN</td>\n",
       "      <td>NaN</td>\n",
       "      <td>NaN</td>\n",
       "      <td>NaN</td>\n",
       "      <td>NaN</td>\n",
       "    </tr>\n",
       "    <tr>\n",
       "      <th>2019-01-03</th>\n",
       "      <td>-0.000805</td>\n",
       "      <td>0.009074</td>\n",
       "      <td>-0.023884</td>\n",
       "      <td>-0.000825</td>\n",
       "      <td>-0.008621</td>\n",
       "      <td>-0.002293</td>\n",
       "      <td>0.022803</td>\n",
       "      <td>0.005865</td>\n",
       "      <td>0.043347</td>\n",
       "      <td>0.007223</td>\n",
       "    </tr>\n",
       "    <tr>\n",
       "      <th>2019-01-04</th>\n",
       "      <td>0.015304</td>\n",
       "      <td>-0.016744</td>\n",
       "      <td>0.079787</td>\n",
       "      <td>-0.000826</td>\n",
       "      <td>0.007246</td>\n",
       "      <td>0.014319</td>\n",
       "      <td>0.011419</td>\n",
       "      <td>-0.017493</td>\n",
       "      <td>0.008078</td>\n",
       "      <td>-0.020319</td>\n",
       "    </tr>\n",
       "    <tr>\n",
       "      <th>2019-01-07</th>\n",
       "      <td>-0.019833</td>\n",
       "      <td>0.012930</td>\n",
       "      <td>-0.008867</td>\n",
       "      <td>0.000000</td>\n",
       "      <td>-0.005755</td>\n",
       "      <td>-0.022307</td>\n",
       "      <td>-0.015591</td>\n",
       "      <td>-0.029674</td>\n",
       "      <td>-0.010303</td>\n",
       "      <td>-0.014233</td>\n",
       "    </tr>\n",
       "    <tr>\n",
       "      <th>2019-01-08</th>\n",
       "      <td>0.009308</td>\n",
       "      <td>0.002491</td>\n",
       "      <td>-0.033797</td>\n",
       "      <td>-0.011570</td>\n",
       "      <td>0.013025</td>\n",
       "      <td>0.036542</td>\n",
       "      <td>-0.008192</td>\n",
       "      <td>0.016820</td>\n",
       "      <td>0.001157</td>\n",
       "      <td>-0.007013</td>\n",
       "    </tr>\n",
       "    <tr>\n",
       "      <th>...</th>\n",
       "      <td>...</td>\n",
       "      <td>...</td>\n",
       "      <td>...</td>\n",
       "      <td>...</td>\n",
       "      <td>...</td>\n",
       "      <td>...</td>\n",
       "      <td>...</td>\n",
       "      <td>...</td>\n",
       "      <td>...</td>\n",
       "      <td>...</td>\n",
       "    </tr>\n",
       "    <tr>\n",
       "      <th>2019-12-20</th>\n",
       "      <td>-0.031791</td>\n",
       "      <td>-0.008215</td>\n",
       "      <td>-0.008197</td>\n",
       "      <td>0.010343</td>\n",
       "      <td>0.011792</td>\n",
       "      <td>0.014278</td>\n",
       "      <td>0.008631</td>\n",
       "      <td>-0.002703</td>\n",
       "      <td>-0.001344</td>\n",
       "      <td>0.011055</td>\n",
       "    </tr>\n",
       "    <tr>\n",
       "      <th>2019-12-23</th>\n",
       "      <td>0.018288</td>\n",
       "      <td>0.013062</td>\n",
       "      <td>0.007084</td>\n",
       "      <td>0.033269</td>\n",
       "      <td>0.000000</td>\n",
       "      <td>0.010161</td>\n",
       "      <td>-0.001824</td>\n",
       "      <td>-0.013550</td>\n",
       "      <td>0.041274</td>\n",
       "      <td>0.004998</td>\n",
       "    </tr>\n",
       "    <tr>\n",
       "      <th>2019-12-26</th>\n",
       "      <td>-0.008163</td>\n",
       "      <td>0.015094</td>\n",
       "      <td>0.019930</td>\n",
       "      <td>0.038390</td>\n",
       "      <td>0.013986</td>\n",
       "      <td>0.012827</td>\n",
       "      <td>0.031370</td>\n",
       "      <td>0.047253</td>\n",
       "      <td>0.023697</td>\n",
       "      <td>0.034194</td>\n",
       "    </tr>\n",
       "    <tr>\n",
       "      <th>2019-12-27</th>\n",
       "      <td>0.004115</td>\n",
       "      <td>-0.003718</td>\n",
       "      <td>-0.018391</td>\n",
       "      <td>0.003578</td>\n",
       "      <td>-0.014943</td>\n",
       "      <td>0.001549</td>\n",
       "      <td>0.014060</td>\n",
       "      <td>-0.011805</td>\n",
       "      <td>0.005892</td>\n",
       "      <td>-0.006913</td>\n",
       "    </tr>\n",
       "    <tr>\n",
       "      <th>2019-12-30</th>\n",
       "      <td>-0.026639</td>\n",
       "      <td>-0.004042</td>\n",
       "      <td>-0.019906</td>\n",
       "      <td>-0.006536</td>\n",
       "      <td>-0.019837</td>\n",
       "      <td>0.015648</td>\n",
       "      <td>-0.019242</td>\n",
       "      <td>-0.015131</td>\n",
       "      <td>-0.005858</td>\n",
       "      <td>0.001816</td>\n",
       "    </tr>\n",
       "  </tbody>\n",
       "</table>\n",
       "<p>247 rows × 10 columns</p>\n",
       "</div>"
      ],
      "text/plain": [
       "               YDUQ3     ITUB3     CIEL3     DTEX3     MEAL3     RADL3  \\\n",
       "Date                                                                     \n",
       "2019-01-02       NaN       NaN       NaN       NaN       NaN       NaN   \n",
       "2019-01-03 -0.000805  0.009074 -0.023884 -0.000825 -0.008621 -0.002293   \n",
       "2019-01-04  0.015304 -0.016744  0.079787 -0.000826  0.007246  0.014319   \n",
       "2019-01-07 -0.019833  0.012930 -0.008867  0.000000 -0.005755 -0.022307   \n",
       "2019-01-08  0.009308  0.002491 -0.033797 -0.011570  0.013025  0.036542   \n",
       "...              ...       ...       ...       ...       ...       ...   \n",
       "2019-12-20 -0.031791 -0.008215 -0.008197  0.010343  0.011792  0.014278   \n",
       "2019-12-23  0.018288  0.013062  0.007084  0.033269  0.000000  0.010161   \n",
       "2019-12-26 -0.008163  0.015094  0.019930  0.038390  0.013986  0.012827   \n",
       "2019-12-27  0.004115 -0.003718 -0.018391  0.003578 -0.014943  0.001549   \n",
       "2019-12-30 -0.026639 -0.004042 -0.019906 -0.006536 -0.019837  0.015648   \n",
       "\n",
       "               WEGE3     QUAL3     LIGT3     MULT3  \n",
       "Date                                                \n",
       "2019-01-02       NaN       NaN       NaN       NaN  \n",
       "2019-01-03  0.022803  0.005865  0.043347  0.007223  \n",
       "2019-01-04  0.011419 -0.017493  0.008078 -0.020319  \n",
       "2019-01-07 -0.015591 -0.029674 -0.010303 -0.014233  \n",
       "2019-01-08 -0.008192  0.016820  0.001157 -0.007013  \n",
       "...              ...       ...       ...       ...  \n",
       "2019-12-20  0.008631 -0.002703 -0.001344  0.011055  \n",
       "2019-12-23 -0.001824 -0.013550  0.041274  0.004998  \n",
       "2019-12-26  0.031370  0.047253  0.023697  0.034194  \n",
       "2019-12-27  0.014060 -0.011805  0.005892 -0.006913  \n",
       "2019-12-30 -0.019242 -0.015131 -0.005858  0.001816  \n",
       "\n",
       "[247 rows x 10 columns]"
      ]
     },
     "execution_count": 33,
     "metadata": {},
     "output_type": "execute_result"
    }
   ],
   "source": [
    "retornoNovo"
   ]
  },
  {
   "cell_type": "code",
   "execution_count": 34,
   "metadata": {},
   "outputs": [
    {
     "data": {
      "text/html": [
       "<div>\n",
       "<style scoped>\n",
       "    .dataframe tbody tr th:only-of-type {\n",
       "        vertical-align: middle;\n",
       "    }\n",
       "\n",
       "    .dataframe tbody tr th {\n",
       "        vertical-align: top;\n",
       "    }\n",
       "\n",
       "    .dataframe thead th {\n",
       "        text-align: right;\n",
       "    }\n",
       "</style>\n",
       "<table border=\"1\" class=\"dataframe\">\n",
       "  <thead>\n",
       "    <tr style=\"text-align: right;\">\n",
       "      <th></th>\n",
       "      <th>YDUQ3</th>\n",
       "      <th>ITUB3</th>\n",
       "      <th>CIEL3</th>\n",
       "      <th>DTEX3</th>\n",
       "      <th>MEAL3</th>\n",
       "      <th>RADL3</th>\n",
       "      <th>WEGE3</th>\n",
       "      <th>QUAL3</th>\n",
       "      <th>LIGT3</th>\n",
       "      <th>MULT3</th>\n",
       "    </tr>\n",
       "  </thead>\n",
       "  <tbody>\n",
       "    <tr>\n",
       "      <th>count</th>\n",
       "      <td>246.000000</td>\n",
       "      <td>246.000000</td>\n",
       "      <td>246.000000</td>\n",
       "      <td>246.000000</td>\n",
       "      <td>246.000000</td>\n",
       "      <td>246.000000</td>\n",
       "      <td>246.000000</td>\n",
       "      <td>246.000000</td>\n",
       "      <td>246.000000</td>\n",
       "      <td>246.000000</td>\n",
       "    </tr>\n",
       "    <tr>\n",
       "      <th>mean</th>\n",
       "      <td>0.003053</td>\n",
       "      <td>0.000333</td>\n",
       "      <td>0.000167</td>\n",
       "      <td>0.001581</td>\n",
       "      <td>0.000933</td>\n",
       "      <td>0.002973</td>\n",
       "      <td>0.002864</td>\n",
       "      <td>0.004792</td>\n",
       "      <td>0.001704</td>\n",
       "      <td>0.001339</td>\n",
       "    </tr>\n",
       "    <tr>\n",
       "      <th>std</th>\n",
       "      <td>0.026282</td>\n",
       "      <td>0.013662</td>\n",
       "      <td>0.031061</td>\n",
       "      <td>0.018668</td>\n",
       "      <td>0.018112</td>\n",
       "      <td>0.019264</td>\n",
       "      <td>0.016099</td>\n",
       "      <td>0.031542</td>\n",
       "      <td>0.020668</td>\n",
       "      <td>0.016633</td>\n",
       "    </tr>\n",
       "    <tr>\n",
       "      <th>min</th>\n",
       "      <td>-0.055910</td>\n",
       "      <td>-0.037334</td>\n",
       "      <td>-0.074240</td>\n",
       "      <td>-0.044764</td>\n",
       "      <td>-0.049180</td>\n",
       "      <td>-0.045454</td>\n",
       "      <td>-0.049012</td>\n",
       "      <td>-0.058177</td>\n",
       "      <td>-0.069973</td>\n",
       "      <td>-0.037744</td>\n",
       "    </tr>\n",
       "    <tr>\n",
       "      <th>25%</th>\n",
       "      <td>-0.015737</td>\n",
       "      <td>-0.008774</td>\n",
       "      <td>-0.020242</td>\n",
       "      <td>-0.011100</td>\n",
       "      <td>-0.009909</td>\n",
       "      <td>-0.008251</td>\n",
       "      <td>-0.007386</td>\n",
       "      <td>-0.010176</td>\n",
       "      <td>-0.010253</td>\n",
       "      <td>-0.008771</td>\n",
       "    </tr>\n",
       "    <tr>\n",
       "      <th>50%</th>\n",
       "      <td>0.000392</td>\n",
       "      <td>-0.000644</td>\n",
       "      <td>-0.005707</td>\n",
       "      <td>0.000795</td>\n",
       "      <td>0.000000</td>\n",
       "      <td>0.001732</td>\n",
       "      <td>0.003332</td>\n",
       "      <td>0.001845</td>\n",
       "      <td>0.001266</td>\n",
       "      <td>0.000970</td>\n",
       "    </tr>\n",
       "    <tr>\n",
       "      <th>75%</th>\n",
       "      <td>0.019253</td>\n",
       "      <td>0.009714</td>\n",
       "      <td>0.018822</td>\n",
       "      <td>0.010282</td>\n",
       "      <td>0.010943</td>\n",
       "      <td>0.012987</td>\n",
       "      <td>0.013270</td>\n",
       "      <td>0.016831</td>\n",
       "      <td>0.012418</td>\n",
       "      <td>0.012504</td>\n",
       "    </tr>\n",
       "    <tr>\n",
       "      <th>max</th>\n",
       "      <td>0.081478</td>\n",
       "      <td>0.039215</td>\n",
       "      <td>0.153315</td>\n",
       "      <td>0.071928</td>\n",
       "      <td>0.083429</td>\n",
       "      <td>0.092486</td>\n",
       "      <td>0.051487</td>\n",
       "      <td>0.366363</td>\n",
       "      <td>0.101299</td>\n",
       "      <td>0.063978</td>\n",
       "    </tr>\n",
       "  </tbody>\n",
       "</table>\n",
       "</div>"
      ],
      "text/plain": [
       "            YDUQ3       ITUB3       CIEL3       DTEX3       MEAL3       RADL3  \\\n",
       "count  246.000000  246.000000  246.000000  246.000000  246.000000  246.000000   \n",
       "mean     0.003053    0.000333    0.000167    0.001581    0.000933    0.002973   \n",
       "std      0.026282    0.013662    0.031061    0.018668    0.018112    0.019264   \n",
       "min     -0.055910   -0.037334   -0.074240   -0.044764   -0.049180   -0.045454   \n",
       "25%     -0.015737   -0.008774   -0.020242   -0.011100   -0.009909   -0.008251   \n",
       "50%      0.000392   -0.000644   -0.005707    0.000795    0.000000    0.001732   \n",
       "75%      0.019253    0.009714    0.018822    0.010282    0.010943    0.012987   \n",
       "max      0.081478    0.039215    0.153315    0.071928    0.083429    0.092486   \n",
       "\n",
       "            WEGE3       QUAL3       LIGT3       MULT3  \n",
       "count  246.000000  246.000000  246.000000  246.000000  \n",
       "mean     0.002864    0.004792    0.001704    0.001339  \n",
       "std      0.016099    0.031542    0.020668    0.016633  \n",
       "min     -0.049012   -0.058177   -0.069973   -0.037744  \n",
       "25%     -0.007386   -0.010176   -0.010253   -0.008771  \n",
       "50%      0.003332    0.001845    0.001266    0.000970  \n",
       "75%      0.013270    0.016831    0.012418    0.012504  \n",
       "max      0.051487    0.366363    0.101299    0.063978  "
      ]
     },
     "execution_count": 34,
     "metadata": {},
     "output_type": "execute_result"
    }
   ],
   "source": [
    "retornoNovo.describe()"
   ]
  },
  {
   "cell_type": "markdown",
   "metadata": {},
   "source": [
    "<b>MULTIPLICAÇÃO DOS PESOS PELOS RETORNOS DE CADA ATIVO EM CADA CARTEIRA</b>"
   ]
  },
  {
   "cell_type": "code",
   "execution_count": 35,
   "metadata": {},
   "outputs": [
    {
     "data": {
      "text/html": [
       "<div>\n",
       "<style scoped>\n",
       "    .dataframe tbody tr th:only-of-type {\n",
       "        vertical-align: middle;\n",
       "    }\n",
       "\n",
       "    .dataframe tbody tr th {\n",
       "        vertical-align: top;\n",
       "    }\n",
       "\n",
       "    .dataframe thead th {\n",
       "        text-align: right;\n",
       "    }\n",
       "</style>\n",
       "<table border=\"1\" class=\"dataframe\">\n",
       "  <thead>\n",
       "    <tr style=\"text-align: right;\">\n",
       "      <th></th>\n",
       "      <th>Pesos</th>\n",
       "    </tr>\n",
       "  </thead>\n",
       "  <tbody>\n",
       "    <tr>\n",
       "      <th>YDUQ3</th>\n",
       "      <td>0.008097</td>\n",
       "    </tr>\n",
       "    <tr>\n",
       "      <th>ITUB3</th>\n",
       "      <td>0.122524</td>\n",
       "    </tr>\n",
       "    <tr>\n",
       "      <th>CIEL3</th>\n",
       "      <td>0.129512</td>\n",
       "    </tr>\n",
       "    <tr>\n",
       "      <th>DTEX3</th>\n",
       "      <td>0.003445</td>\n",
       "    </tr>\n",
       "    <tr>\n",
       "      <th>MEAL3</th>\n",
       "      <td>0.129456</td>\n",
       "    </tr>\n",
       "    <tr>\n",
       "      <th>RADL3</th>\n",
       "      <td>0.217953</td>\n",
       "    </tr>\n",
       "    <tr>\n",
       "      <th>WEGE3</th>\n",
       "      <td>0.228527</td>\n",
       "    </tr>\n",
       "    <tr>\n",
       "      <th>QUAL3</th>\n",
       "      <td>0.044875</td>\n",
       "    </tr>\n",
       "    <tr>\n",
       "      <th>LIGT3</th>\n",
       "      <td>0.014882</td>\n",
       "    </tr>\n",
       "    <tr>\n",
       "      <th>MULT3</th>\n",
       "      <td>0.100728</td>\n",
       "    </tr>\n",
       "  </tbody>\n",
       "</table>\n",
       "</div>"
      ],
      "text/plain": [
       "          Pesos\n",
       "YDUQ3  0.008097\n",
       "ITUB3  0.122524\n",
       "CIEL3  0.129512\n",
       "DTEX3  0.003445\n",
       "MEAL3  0.129456\n",
       "RADL3  0.217953\n",
       "WEGE3  0.228527\n",
       "QUAL3  0.044875\n",
       "LIGT3  0.014882\n",
       "MULT3  0.100728"
      ]
     },
     "execution_count": 35,
     "metadata": {},
     "output_type": "execute_result"
    }
   ],
   "source": [
    "pesosCLA"
   ]
  },
  {
   "cell_type": "code",
   "execution_count": 36,
   "metadata": {},
   "outputs": [],
   "source": [
    "pesosCLA2=pd.Series(pesosCLA['Pesos'])"
   ]
  },
  {
   "cell_type": "code",
   "execution_count": 37,
   "metadata": {},
   "outputs": [],
   "source": [
    "retornoCLA=retornoNovo*pesosCLA2"
   ]
  },
  {
   "cell_type": "code",
   "execution_count": 38,
   "metadata": {},
   "outputs": [
    {
     "data": {
      "text/html": [
       "<div>\n",
       "<style scoped>\n",
       "    .dataframe tbody tr th:only-of-type {\n",
       "        vertical-align: middle;\n",
       "    }\n",
       "\n",
       "    .dataframe tbody tr th {\n",
       "        vertical-align: top;\n",
       "    }\n",
       "\n",
       "    .dataframe thead th {\n",
       "        text-align: right;\n",
       "    }\n",
       "</style>\n",
       "<table border=\"1\" class=\"dataframe\">\n",
       "  <thead>\n",
       "    <tr style=\"text-align: right;\">\n",
       "      <th></th>\n",
       "      <th>YDUQ3</th>\n",
       "      <th>ITUB3</th>\n",
       "      <th>CIEL3</th>\n",
       "      <th>DTEX3</th>\n",
       "      <th>MEAL3</th>\n",
       "      <th>RADL3</th>\n",
       "      <th>WEGE3</th>\n",
       "      <th>QUAL3</th>\n",
       "      <th>LIGT3</th>\n",
       "      <th>MULT3</th>\n",
       "    </tr>\n",
       "    <tr>\n",
       "      <th>Date</th>\n",
       "      <th></th>\n",
       "      <th></th>\n",
       "      <th></th>\n",
       "      <th></th>\n",
       "      <th></th>\n",
       "      <th></th>\n",
       "      <th></th>\n",
       "      <th></th>\n",
       "      <th></th>\n",
       "      <th></th>\n",
       "    </tr>\n",
       "  </thead>\n",
       "  <tbody>\n",
       "    <tr>\n",
       "      <th>2019-01-02</th>\n",
       "      <td>NaN</td>\n",
       "      <td>NaN</td>\n",
       "      <td>NaN</td>\n",
       "      <td>NaN</td>\n",
       "      <td>NaN</td>\n",
       "      <td>NaN</td>\n",
       "      <td>NaN</td>\n",
       "      <td>NaN</td>\n",
       "      <td>NaN</td>\n",
       "      <td>NaN</td>\n",
       "    </tr>\n",
       "    <tr>\n",
       "      <th>2019-01-03</th>\n",
       "      <td>-0.000007</td>\n",
       "      <td>0.001112</td>\n",
       "      <td>-0.003093</td>\n",
       "      <td>-0.000003</td>\n",
       "      <td>-0.001116</td>\n",
       "      <td>-0.000500</td>\n",
       "      <td>0.005211</td>\n",
       "      <td>0.000263</td>\n",
       "      <td>0.000645</td>\n",
       "      <td>0.000728</td>\n",
       "    </tr>\n",
       "    <tr>\n",
       "      <th>2019-01-04</th>\n",
       "      <td>0.000124</td>\n",
       "      <td>-0.002052</td>\n",
       "      <td>0.010333</td>\n",
       "      <td>-0.000003</td>\n",
       "      <td>0.000938</td>\n",
       "      <td>0.003121</td>\n",
       "      <td>0.002610</td>\n",
       "      <td>-0.000785</td>\n",
       "      <td>0.000120</td>\n",
       "      <td>-0.002047</td>\n",
       "    </tr>\n",
       "    <tr>\n",
       "      <th>2019-01-07</th>\n",
       "      <td>-0.000161</td>\n",
       "      <td>0.001584</td>\n",
       "      <td>-0.001148</td>\n",
       "      <td>0.000000</td>\n",
       "      <td>-0.000745</td>\n",
       "      <td>-0.004862</td>\n",
       "      <td>-0.003563</td>\n",
       "      <td>-0.001332</td>\n",
       "      <td>-0.000153</td>\n",
       "      <td>-0.001434</td>\n",
       "    </tr>\n",
       "    <tr>\n",
       "      <th>2019-01-08</th>\n",
       "      <td>0.000075</td>\n",
       "      <td>0.000305</td>\n",
       "      <td>-0.004377</td>\n",
       "      <td>-0.000040</td>\n",
       "      <td>0.001686</td>\n",
       "      <td>0.007964</td>\n",
       "      <td>-0.001872</td>\n",
       "      <td>0.000755</td>\n",
       "      <td>0.000017</td>\n",
       "      <td>-0.000706</td>\n",
       "    </tr>\n",
       "    <tr>\n",
       "      <th>...</th>\n",
       "      <td>...</td>\n",
       "      <td>...</td>\n",
       "      <td>...</td>\n",
       "      <td>...</td>\n",
       "      <td>...</td>\n",
       "      <td>...</td>\n",
       "      <td>...</td>\n",
       "      <td>...</td>\n",
       "      <td>...</td>\n",
       "      <td>...</td>\n",
       "    </tr>\n",
       "    <tr>\n",
       "      <th>2019-12-20</th>\n",
       "      <td>-0.000257</td>\n",
       "      <td>-0.001007</td>\n",
       "      <td>-0.001062</td>\n",
       "      <td>0.000036</td>\n",
       "      <td>0.001527</td>\n",
       "      <td>0.003112</td>\n",
       "      <td>0.001972</td>\n",
       "      <td>-0.000121</td>\n",
       "      <td>-0.000020</td>\n",
       "      <td>0.001114</td>\n",
       "    </tr>\n",
       "    <tr>\n",
       "      <th>2019-12-23</th>\n",
       "      <td>0.000148</td>\n",
       "      <td>0.001600</td>\n",
       "      <td>0.000917</td>\n",
       "      <td>0.000115</td>\n",
       "      <td>0.000000</td>\n",
       "      <td>0.002215</td>\n",
       "      <td>-0.000417</td>\n",
       "      <td>-0.000608</td>\n",
       "      <td>0.000614</td>\n",
       "      <td>0.000503</td>\n",
       "    </tr>\n",
       "    <tr>\n",
       "      <th>2019-12-26</th>\n",
       "      <td>-0.000066</td>\n",
       "      <td>0.001849</td>\n",
       "      <td>0.002581</td>\n",
       "      <td>0.000132</td>\n",
       "      <td>0.001811</td>\n",
       "      <td>0.002796</td>\n",
       "      <td>0.007169</td>\n",
       "      <td>0.002120</td>\n",
       "      <td>0.000353</td>\n",
       "      <td>0.003444</td>\n",
       "    </tr>\n",
       "    <tr>\n",
       "      <th>2019-12-27</th>\n",
       "      <td>0.000033</td>\n",
       "      <td>-0.000455</td>\n",
       "      <td>-0.002382</td>\n",
       "      <td>0.000012</td>\n",
       "      <td>-0.001934</td>\n",
       "      <td>0.000338</td>\n",
       "      <td>0.003213</td>\n",
       "      <td>-0.000530</td>\n",
       "      <td>0.000088</td>\n",
       "      <td>-0.000696</td>\n",
       "    </tr>\n",
       "    <tr>\n",
       "      <th>2019-12-30</th>\n",
       "      <td>-0.000216</td>\n",
       "      <td>-0.000495</td>\n",
       "      <td>-0.002578</td>\n",
       "      <td>-0.000023</td>\n",
       "      <td>-0.002568</td>\n",
       "      <td>0.003410</td>\n",
       "      <td>-0.004397</td>\n",
       "      <td>-0.000679</td>\n",
       "      <td>-0.000087</td>\n",
       "      <td>0.000183</td>\n",
       "    </tr>\n",
       "  </tbody>\n",
       "</table>\n",
       "<p>247 rows × 10 columns</p>\n",
       "</div>"
      ],
      "text/plain": [
       "               YDUQ3     ITUB3     CIEL3     DTEX3     MEAL3     RADL3  \\\n",
       "Date                                                                     \n",
       "2019-01-02       NaN       NaN       NaN       NaN       NaN       NaN   \n",
       "2019-01-03 -0.000007  0.001112 -0.003093 -0.000003 -0.001116 -0.000500   \n",
       "2019-01-04  0.000124 -0.002052  0.010333 -0.000003  0.000938  0.003121   \n",
       "2019-01-07 -0.000161  0.001584 -0.001148  0.000000 -0.000745 -0.004862   \n",
       "2019-01-08  0.000075  0.000305 -0.004377 -0.000040  0.001686  0.007964   \n",
       "...              ...       ...       ...       ...       ...       ...   \n",
       "2019-12-20 -0.000257 -0.001007 -0.001062  0.000036  0.001527  0.003112   \n",
       "2019-12-23  0.000148  0.001600  0.000917  0.000115  0.000000  0.002215   \n",
       "2019-12-26 -0.000066  0.001849  0.002581  0.000132  0.001811  0.002796   \n",
       "2019-12-27  0.000033 -0.000455 -0.002382  0.000012 -0.001934  0.000338   \n",
       "2019-12-30 -0.000216 -0.000495 -0.002578 -0.000023 -0.002568  0.003410   \n",
       "\n",
       "               WEGE3     QUAL3     LIGT3     MULT3  \n",
       "Date                                                \n",
       "2019-01-02       NaN       NaN       NaN       NaN  \n",
       "2019-01-03  0.005211  0.000263  0.000645  0.000728  \n",
       "2019-01-04  0.002610 -0.000785  0.000120 -0.002047  \n",
       "2019-01-07 -0.003563 -0.001332 -0.000153 -0.001434  \n",
       "2019-01-08 -0.001872  0.000755  0.000017 -0.000706  \n",
       "...              ...       ...       ...       ...  \n",
       "2019-12-20  0.001972 -0.000121 -0.000020  0.001114  \n",
       "2019-12-23 -0.000417 -0.000608  0.000614  0.000503  \n",
       "2019-12-26  0.007169  0.002120  0.000353  0.003444  \n",
       "2019-12-27  0.003213 -0.000530  0.000088 -0.000696  \n",
       "2019-12-30 -0.004397 -0.000679 -0.000087  0.000183  \n",
       "\n",
       "[247 rows x 10 columns]"
      ]
     },
     "execution_count": 38,
     "metadata": {},
     "output_type": "execute_result"
    }
   ],
   "source": [
    "retornoCLA"
   ]
  },
  {
   "cell_type": "markdown",
   "metadata": {},
   "source": [
    "<b>TRANSFORMAÇÃO DOS RETORNOS EM RETORNOS ACUMULADOS</b>"
   ]
  },
  {
   "cell_type": "code",
   "execution_count": 39,
   "metadata": {},
   "outputs": [],
   "source": [
    "historicoCLA=retornoCLA.sum(axis=1)\n",
    "historico_acumuladoCLA=(1+historicoCLA).cumprod()\n",
    "historico_acumuladoCLA.iloc[0]=1"
   ]
  },
  {
   "cell_type": "code",
   "execution_count": 40,
   "metadata": {},
   "outputs": [
    {
     "data": {
      "text/plain": [
       "Date\n",
       "2019-01-02    1.000000\n",
       "2019-01-03    1.003240\n",
       "2019-01-04    1.015640\n",
       "2019-01-07    1.003642\n",
       "2019-01-08    1.007464\n",
       "                ...   \n",
       "2019-12-20    1.539131\n",
       "2019-12-23    1.546962\n",
       "2019-12-26    1.581288\n",
       "2019-12-27    1.577630\n",
       "2019-12-30    1.565877\n",
       "Length: 247, dtype: float64"
      ]
     },
     "execution_count": 40,
     "metadata": {},
     "output_type": "execute_result"
    }
   ],
   "source": [
    "historico_acumuladoCLA"
   ]
  },
  {
   "cell_type": "code",
   "execution_count": 41,
   "metadata": {},
   "outputs": [],
   "source": [
    "pesosHRP=pesosHRP.T\n",
    "pesosHRP = pesosHRP[escolhas]\n"
   ]
  },
  {
   "cell_type": "code",
   "execution_count": 42,
   "metadata": {},
   "outputs": [
    {
     "data": {
      "text/html": [
       "<div>\n",
       "<style scoped>\n",
       "    .dataframe tbody tr th:only-of-type {\n",
       "        vertical-align: middle;\n",
       "    }\n",
       "\n",
       "    .dataframe tbody tr th {\n",
       "        vertical-align: top;\n",
       "    }\n",
       "\n",
       "    .dataframe thead th {\n",
       "        text-align: right;\n",
       "    }\n",
       "</style>\n",
       "<table border=\"1\" class=\"dataframe\">\n",
       "  <thead>\n",
       "    <tr style=\"text-align: right;\">\n",
       "      <th></th>\n",
       "      <th>YDUQ3</th>\n",
       "      <th>ITUB3</th>\n",
       "      <th>CIEL3</th>\n",
       "      <th>DTEX3</th>\n",
       "      <th>MEAL3</th>\n",
       "      <th>RADL3</th>\n",
       "      <th>WEGE3</th>\n",
       "      <th>QUAL3</th>\n",
       "      <th>LIGT3</th>\n",
       "      <th>MULT3</th>\n",
       "    </tr>\n",
       "  </thead>\n",
       "  <tbody>\n",
       "    <tr>\n",
       "      <th>Pesos</th>\n",
       "      <td>0.061067</td>\n",
       "      <td>0.097585</td>\n",
       "      <td>0.120218</td>\n",
       "      <td>0.073674</td>\n",
       "      <td>0.100534</td>\n",
       "      <td>0.158172</td>\n",
       "      <td>0.155972</td>\n",
       "      <td>0.09038</td>\n",
       "      <td>0.055049</td>\n",
       "      <td>0.08735</td>\n",
       "    </tr>\n",
       "  </tbody>\n",
       "</table>\n",
       "</div>"
      ],
      "text/plain": [
       "          YDUQ3     ITUB3     CIEL3     DTEX3     MEAL3     RADL3     WEGE3  \\\n",
       "Pesos  0.061067  0.097585  0.120218  0.073674  0.100534  0.158172  0.155972   \n",
       "\n",
       "         QUAL3     LIGT3    MULT3  \n",
       "Pesos  0.09038  0.055049  0.08735  "
      ]
     },
     "execution_count": 42,
     "metadata": {},
     "output_type": "execute_result"
    }
   ],
   "source": [
    "pesosHRP"
   ]
  },
  {
   "cell_type": "code",
   "execution_count": 43,
   "metadata": {},
   "outputs": [],
   "source": [
    "pesosHRP2=pd.Series(pesosHRP.iloc[0])\n",
    "retornoHRP=retornoNovo*pesosHRP2"
   ]
  },
  {
   "cell_type": "code",
   "execution_count": 44,
   "metadata": {},
   "outputs": [
    {
     "data": {
      "text/html": [
       "<div>\n",
       "<style scoped>\n",
       "    .dataframe tbody tr th:only-of-type {\n",
       "        vertical-align: middle;\n",
       "    }\n",
       "\n",
       "    .dataframe tbody tr th {\n",
       "        vertical-align: top;\n",
       "    }\n",
       "\n",
       "    .dataframe thead th {\n",
       "        text-align: right;\n",
       "    }\n",
       "</style>\n",
       "<table border=\"1\" class=\"dataframe\">\n",
       "  <thead>\n",
       "    <tr style=\"text-align: right;\">\n",
       "      <th></th>\n",
       "      <th>YDUQ3</th>\n",
       "      <th>ITUB3</th>\n",
       "      <th>CIEL3</th>\n",
       "      <th>DTEX3</th>\n",
       "      <th>MEAL3</th>\n",
       "      <th>RADL3</th>\n",
       "      <th>WEGE3</th>\n",
       "      <th>QUAL3</th>\n",
       "      <th>LIGT3</th>\n",
       "      <th>MULT3</th>\n",
       "    </tr>\n",
       "    <tr>\n",
       "      <th>Date</th>\n",
       "      <th></th>\n",
       "      <th></th>\n",
       "      <th></th>\n",
       "      <th></th>\n",
       "      <th></th>\n",
       "      <th></th>\n",
       "      <th></th>\n",
       "      <th></th>\n",
       "      <th></th>\n",
       "      <th></th>\n",
       "    </tr>\n",
       "  </thead>\n",
       "  <tbody>\n",
       "    <tr>\n",
       "      <th>2019-01-02</th>\n",
       "      <td>NaN</td>\n",
       "      <td>NaN</td>\n",
       "      <td>NaN</td>\n",
       "      <td>NaN</td>\n",
       "      <td>NaN</td>\n",
       "      <td>NaN</td>\n",
       "      <td>NaN</td>\n",
       "      <td>NaN</td>\n",
       "      <td>NaN</td>\n",
       "      <td>NaN</td>\n",
       "    </tr>\n",
       "    <tr>\n",
       "      <th>2019-01-03</th>\n",
       "      <td>-0.000049</td>\n",
       "      <td>0.000885</td>\n",
       "      <td>-0.002871</td>\n",
       "      <td>-0.000061</td>\n",
       "      <td>-0.000867</td>\n",
       "      <td>-0.000363</td>\n",
       "      <td>0.003557</td>\n",
       "      <td>0.000530</td>\n",
       "      <td>0.002386</td>\n",
       "      <td>0.000631</td>\n",
       "    </tr>\n",
       "    <tr>\n",
       "      <th>2019-01-04</th>\n",
       "      <td>0.000935</td>\n",
       "      <td>-0.001634</td>\n",
       "      <td>0.009592</td>\n",
       "      <td>-0.000061</td>\n",
       "      <td>0.000728</td>\n",
       "      <td>0.002265</td>\n",
       "      <td>0.001781</td>\n",
       "      <td>-0.001581</td>\n",
       "      <td>0.000445</td>\n",
       "      <td>-0.001775</td>\n",
       "    </tr>\n",
       "    <tr>\n",
       "      <th>2019-01-07</th>\n",
       "      <td>-0.001211</td>\n",
       "      <td>0.001262</td>\n",
       "      <td>-0.001066</td>\n",
       "      <td>0.000000</td>\n",
       "      <td>-0.000579</td>\n",
       "      <td>-0.003528</td>\n",
       "      <td>-0.002432</td>\n",
       "      <td>-0.002682</td>\n",
       "      <td>-0.000567</td>\n",
       "      <td>-0.001243</td>\n",
       "    </tr>\n",
       "    <tr>\n",
       "      <th>2019-01-08</th>\n",
       "      <td>0.000568</td>\n",
       "      <td>0.000243</td>\n",
       "      <td>-0.004063</td>\n",
       "      <td>-0.000852</td>\n",
       "      <td>0.001309</td>\n",
       "      <td>0.005780</td>\n",
       "      <td>-0.001278</td>\n",
       "      <td>0.001520</td>\n",
       "      <td>0.000064</td>\n",
       "      <td>-0.000613</td>\n",
       "    </tr>\n",
       "    <tr>\n",
       "      <th>...</th>\n",
       "      <td>...</td>\n",
       "      <td>...</td>\n",
       "      <td>...</td>\n",
       "      <td>...</td>\n",
       "      <td>...</td>\n",
       "      <td>...</td>\n",
       "      <td>...</td>\n",
       "      <td>...</td>\n",
       "      <td>...</td>\n",
       "      <td>...</td>\n",
       "    </tr>\n",
       "    <tr>\n",
       "      <th>2019-12-20</th>\n",
       "      <td>-0.001941</td>\n",
       "      <td>-0.000802</td>\n",
       "      <td>-0.000985</td>\n",
       "      <td>0.000762</td>\n",
       "      <td>0.001186</td>\n",
       "      <td>0.002258</td>\n",
       "      <td>0.001346</td>\n",
       "      <td>-0.000244</td>\n",
       "      <td>-0.000074</td>\n",
       "      <td>0.000966</td>\n",
       "    </tr>\n",
       "    <tr>\n",
       "      <th>2019-12-23</th>\n",
       "      <td>0.001117</td>\n",
       "      <td>0.001275</td>\n",
       "      <td>0.000852</td>\n",
       "      <td>0.002451</td>\n",
       "      <td>0.000000</td>\n",
       "      <td>0.001607</td>\n",
       "      <td>-0.000285</td>\n",
       "      <td>-0.001225</td>\n",
       "      <td>0.002272</td>\n",
       "      <td>0.000437</td>\n",
       "    </tr>\n",
       "    <tr>\n",
       "      <th>2019-12-26</th>\n",
       "      <td>-0.000499</td>\n",
       "      <td>0.001473</td>\n",
       "      <td>0.002396</td>\n",
       "      <td>0.002828</td>\n",
       "      <td>0.001406</td>\n",
       "      <td>0.002029</td>\n",
       "      <td>0.004893</td>\n",
       "      <td>0.004271</td>\n",
       "      <td>0.001304</td>\n",
       "      <td>0.002987</td>\n",
       "    </tr>\n",
       "    <tr>\n",
       "      <th>2019-12-27</th>\n",
       "      <td>0.000251</td>\n",
       "      <td>-0.000363</td>\n",
       "      <td>-0.002211</td>\n",
       "      <td>0.000264</td>\n",
       "      <td>-0.001502</td>\n",
       "      <td>0.000245</td>\n",
       "      <td>0.002193</td>\n",
       "      <td>-0.001067</td>\n",
       "      <td>0.000324</td>\n",
       "      <td>-0.000604</td>\n",
       "    </tr>\n",
       "    <tr>\n",
       "      <th>2019-12-30</th>\n",
       "      <td>-0.001627</td>\n",
       "      <td>-0.000394</td>\n",
       "      <td>-0.002393</td>\n",
       "      <td>-0.000482</td>\n",
       "      <td>-0.001994</td>\n",
       "      <td>0.002475</td>\n",
       "      <td>-0.003001</td>\n",
       "      <td>-0.001368</td>\n",
       "      <td>-0.000322</td>\n",
       "      <td>0.000159</td>\n",
       "    </tr>\n",
       "  </tbody>\n",
       "</table>\n",
       "<p>247 rows × 10 columns</p>\n",
       "</div>"
      ],
      "text/plain": [
       "               YDUQ3     ITUB3     CIEL3     DTEX3     MEAL3     RADL3  \\\n",
       "Date                                                                     \n",
       "2019-01-02       NaN       NaN       NaN       NaN       NaN       NaN   \n",
       "2019-01-03 -0.000049  0.000885 -0.002871 -0.000061 -0.000867 -0.000363   \n",
       "2019-01-04  0.000935 -0.001634  0.009592 -0.000061  0.000728  0.002265   \n",
       "2019-01-07 -0.001211  0.001262 -0.001066  0.000000 -0.000579 -0.003528   \n",
       "2019-01-08  0.000568  0.000243 -0.004063 -0.000852  0.001309  0.005780   \n",
       "...              ...       ...       ...       ...       ...       ...   \n",
       "2019-12-20 -0.001941 -0.000802 -0.000985  0.000762  0.001186  0.002258   \n",
       "2019-12-23  0.001117  0.001275  0.000852  0.002451  0.000000  0.001607   \n",
       "2019-12-26 -0.000499  0.001473  0.002396  0.002828  0.001406  0.002029   \n",
       "2019-12-27  0.000251 -0.000363 -0.002211  0.000264 -0.001502  0.000245   \n",
       "2019-12-30 -0.001627 -0.000394 -0.002393 -0.000482 -0.001994  0.002475   \n",
       "\n",
       "               WEGE3     QUAL3     LIGT3     MULT3  \n",
       "Date                                                \n",
       "2019-01-02       NaN       NaN       NaN       NaN  \n",
       "2019-01-03  0.003557  0.000530  0.002386  0.000631  \n",
       "2019-01-04  0.001781 -0.001581  0.000445 -0.001775  \n",
       "2019-01-07 -0.002432 -0.002682 -0.000567 -0.001243  \n",
       "2019-01-08 -0.001278  0.001520  0.000064 -0.000613  \n",
       "...              ...       ...       ...       ...  \n",
       "2019-12-20  0.001346 -0.000244 -0.000074  0.000966  \n",
       "2019-12-23 -0.000285 -0.001225  0.002272  0.000437  \n",
       "2019-12-26  0.004893  0.004271  0.001304  0.002987  \n",
       "2019-12-27  0.002193 -0.001067  0.000324 -0.000604  \n",
       "2019-12-30 -0.003001 -0.001368 -0.000322  0.000159  \n",
       "\n",
       "[247 rows x 10 columns]"
      ]
     },
     "execution_count": 44,
     "metadata": {},
     "output_type": "execute_result"
    }
   ],
   "source": [
    "retornoHRP"
   ]
  },
  {
   "cell_type": "code",
   "execution_count": 45,
   "metadata": {},
   "outputs": [],
   "source": [
    "historicoHRP=retornoHRP.sum(axis=1)\n",
    "historico_acumuladoHRP=(1+historicoHRP).cumprod()\n",
    "historico_acumuladoHRP.iloc[0]=1"
   ]
  },
  {
   "cell_type": "code",
   "execution_count": 46,
   "metadata": {},
   "outputs": [
    {
     "data": {
      "text/plain": [
       "Date\n",
       "2019-01-02    1.000000\n",
       "2019-01-03    1.003779\n",
       "2019-01-04    1.014514\n",
       "2019-01-07    1.002293\n",
       "2019-01-08    1.004978\n",
       "                ...   \n",
       "2019-12-20    1.580544\n",
       "2019-12-23    1.593980\n",
       "2019-12-26    1.630783\n",
       "2019-12-27    1.626756\n",
       "2019-12-30    1.612200\n",
       "Length: 247, dtype: float64"
      ]
     },
     "execution_count": 46,
     "metadata": {},
     "output_type": "execute_result"
    }
   ],
   "source": [
    "historico_acumuladoHRP"
   ]
  },
  {
   "cell_type": "markdown",
   "metadata": {},
   "source": [
    "<b>AQUISIÇÃO DO HISTÓRICO DO ÍNDICE BOVESPA E CDI PARA COMPARAR COM CARTEIRAS</b>"
   ]
  },
  {
   "cell_type": "code",
   "execution_count": 47,
   "metadata": {},
   "outputs": [],
   "source": [
    "from pandas_datareader import data as wb\n",
    "bovespa = pd.DataFrame()\n",
    "bovespa=wb.DataReader('^BVSP', data_source='yahoo', start=start_date,end=end_date)['Adj Close']\n",
    "pct_bovespa = bovespa.pct_change()\n",
    "ibov_acumulado=(1+pct_bovespa).cumprod()\n",
    "ibov_acumulado.iloc[0]=1"
   ]
  },
  {
   "cell_type": "code",
   "execution_count": 48,
   "metadata": {},
   "outputs": [
    {
     "data": {
      "text/plain": [
       "Date\n",
       "2019-01-02    1.000000\n",
       "2019-01-03    1.006065\n",
       "2019-01-04    1.009109\n",
       "2019-01-07    1.007548\n",
       "2019-01-08    1.011207\n",
       "                ...   \n",
       "2019-12-20    1.264899\n",
       "2019-12-23    1.273052\n",
       "2019-12-26    1.287775\n",
       "2019-12-27    1.280425\n",
       "2019-12-30    1.274162\n",
       "Name: Adj Close, Length: 247, dtype: float64"
      ]
     },
     "execution_count": 48,
     "metadata": {},
     "output_type": "execute_result"
    }
   ],
   "source": [
    "ibov_acumulado"
   ]
  },
  {
   "cell_type": "code",
   "execution_count": 49,
   "metadata": {},
   "outputs": [],
   "source": [
    "def consulta_bc(codigo_bcb):\n",
    "  url = 'http://api.bcb.gov.br/dados/serie/bcdata.sgs.{}/dados?formato=json'.format(codigo_bcb)\n",
    "  PG = pd.read_json(url)\n",
    "  df=pd.DataFrame(PG)  \n",
    "  df['data'] = pd.to_datetime(df['data'], dayfirst=True)\n",
    "  df.set_index('data', inplace=True)\n",
    "  return df\n",
    "\n",
    "cdi=consulta_bc(12)\n",
    "cdi=cdi[cdi.index>=start_date]\n",
    "cdi_acumulado=(1+cdi[cdi.index<=end_date]/100).cumprod()\n",
    "cdi_acumulado.iloc[0]=1\n",
    "#cdi_acumulado.drop(cdi_acumulado.tail(1).index, inplace = True) "
   ]
  },
  {
   "cell_type": "code",
   "execution_count": 50,
   "metadata": {},
   "outputs": [
    {
     "data": {
      "text/html": [
       "<div>\n",
       "<style scoped>\n",
       "    .dataframe tbody tr th:only-of-type {\n",
       "        vertical-align: middle;\n",
       "    }\n",
       "\n",
       "    .dataframe tbody tr th {\n",
       "        vertical-align: top;\n",
       "    }\n",
       "\n",
       "    .dataframe thead th {\n",
       "        text-align: right;\n",
       "    }\n",
       "</style>\n",
       "<table border=\"1\" class=\"dataframe\">\n",
       "  <thead>\n",
       "    <tr style=\"text-align: right;\">\n",
       "      <th></th>\n",
       "      <th>valor</th>\n",
       "    </tr>\n",
       "    <tr>\n",
       "      <th>data</th>\n",
       "      <th></th>\n",
       "    </tr>\n",
       "  </thead>\n",
       "  <tbody>\n",
       "    <tr>\n",
       "      <th>2019-01-02</th>\n",
       "      <td>1.000000</td>\n",
       "    </tr>\n",
       "    <tr>\n",
       "      <th>2019-01-03</th>\n",
       "      <td>1.000492</td>\n",
       "    </tr>\n",
       "    <tr>\n",
       "      <th>2019-01-04</th>\n",
       "      <td>1.000739</td>\n",
       "    </tr>\n",
       "    <tr>\n",
       "      <th>2019-01-07</th>\n",
       "      <td>1.000985</td>\n",
       "    </tr>\n",
       "    <tr>\n",
       "      <th>2019-01-08</th>\n",
       "      <td>1.001232</td>\n",
       "    </tr>\n",
       "    <tr>\n",
       "      <th>...</th>\n",
       "      <td>...</td>\n",
       "    </tr>\n",
       "    <tr>\n",
       "      <th>2019-12-24</th>\n",
       "      <td>1.058875</td>\n",
       "    </tr>\n",
       "    <tr>\n",
       "      <th>2019-12-26</th>\n",
       "      <td>1.059056</td>\n",
       "    </tr>\n",
       "    <tr>\n",
       "      <th>2019-12-27</th>\n",
       "      <td>1.059237</td>\n",
       "    </tr>\n",
       "    <tr>\n",
       "      <th>2019-12-30</th>\n",
       "      <td>1.059418</td>\n",
       "    </tr>\n",
       "    <tr>\n",
       "      <th>2019-12-31</th>\n",
       "      <td>1.059599</td>\n",
       "    </tr>\n",
       "  </tbody>\n",
       "</table>\n",
       "<p>253 rows × 1 columns</p>\n",
       "</div>"
      ],
      "text/plain": [
       "               valor\n",
       "data                \n",
       "2019-01-02  1.000000\n",
       "2019-01-03  1.000492\n",
       "2019-01-04  1.000739\n",
       "2019-01-07  1.000985\n",
       "2019-01-08  1.001232\n",
       "...              ...\n",
       "2019-12-24  1.058875\n",
       "2019-12-26  1.059056\n",
       "2019-12-27  1.059237\n",
       "2019-12-30  1.059418\n",
       "2019-12-31  1.059599\n",
       "\n",
       "[253 rows x 1 columns]"
      ]
     },
     "execution_count": 50,
     "metadata": {},
     "output_type": "execute_result"
    }
   ],
   "source": [
    "cdi_acumulado"
   ]
  },
  {
   "cell_type": "markdown",
   "metadata": {},
   "source": [
    "<div id=\"Plot comparativo entre carteiras, ibovespa e CDI.\">\n",
    "    <h2>8) Plot comparativo entre carteiras, ibovespa e CDI.</h2>\n",
    "</div>"
   ]
  },
  {
   "cell_type": "code",
   "execution_count": 51,
   "metadata": {},
   "outputs": [
    {
     "data": {
      "image/png": "[encoded data removed]",
      "text/plain": [
       "<Figure size 720x576 with 1 Axes>"
      ]
     },
     "metadata": {
      "needs_background": "light"
     },
     "output_type": "display_data"
    }
   ],
   "source": [
    "fig, ax = plt.subplots(figsize=(10, 8))\n",
    "ax.plot(historico_acumuladoHRP,  '-b', label='HRP')\n",
    "ax.plot(historico_acumuladoCLA,  '-y', label='CLA')\n",
    "ax.plot(ibov_acumulado,  '--r', label='IBOV')\n",
    "ax.plot(cdi_acumulado,  '-g', label='CDI')\n",
    "ax.set_ylabel(\"Performance\",fontsize=15)  \n",
    "ax.set_xlabel(\"Data\",fontsize=15)  \n",
    "ax.set_title(\"Comparativo entre portfólios \",fontsize=15)\n",
    "leg = ax.legend();"
   ]
  },
  {
   "cell_type": "markdown",
   "metadata": {},
   "source": [
    "<b>DADOS DE PERFORMANCE E RISCO PARA AS CARTEIRAS NO ANO SUBSEQUENTE</b>"
   ]
  },
  {
   "cell_type": "code",
   "execution_count": 52,
   "metadata": {},
   "outputs": [
    {
     "name": "stdout",
     "output_type": "stream",
     "text": [
      "Multiplicação do patrimônio pela carteira HRP:\n",
      "1.6122\n",
      "Multiplicação do patrimônio pela carteira CLA:\n",
      "1.5659\n"
     ]
    }
   ],
   "source": [
    "print('Multiplicação do patrimônio pela carteira HRP:')\n",
    "print('%.4f' % historico_acumuladoHRP[-1])\n",
    "print('Multiplicação do patrimônio pela carteira CLA:')\n",
    "print('%.4f'% historico_acumuladoCLA[-1])"
   ]
  },
  {
   "cell_type": "code",
   "execution_count": 53,
   "metadata": {},
   "outputs": [],
   "source": [
    "retornosHRP = historico_acumuladoHRP.pct_change().iloc[1:]\n",
    "meanHRP=retornosHRP.mean()\n",
    "stdHRP=retornosHRP.std()\n",
    "\n",
    "retornosCLA = historico_acumuladoCLA.pct_change().iloc[1:]\n",
    "meanCLA=retornosCLA.mean()\n",
    "stdCLA=retornosCLA.std()"
   ]
  },
  {
   "cell_type": "code",
   "execution_count": 54,
   "metadata": {},
   "outputs": [
    {
     "data": {
      "text/html": [
       "<div>\n",
       "<style scoped>\n",
       "    .dataframe tbody tr th:only-of-type {\n",
       "        vertical-align: middle;\n",
       "    }\n",
       "\n",
       "    .dataframe tbody tr th {\n",
       "        vertical-align: top;\n",
       "    }\n",
       "\n",
       "    .dataframe thead th {\n",
       "        text-align: right;\n",
       "    }\n",
       "</style>\n",
       "<table border=\"1\" class=\"dataframe\">\n",
       "  <thead>\n",
       "    <tr style=\"text-align: right;\">\n",
       "      <th></th>\n",
       "      <th>Pesos</th>\n",
       "    </tr>\n",
       "  </thead>\n",
       "  <tbody>\n",
       "    <tr>\n",
       "      <th>YDUQ3</th>\n",
       "      <td>6.106652</td>\n",
       "    </tr>\n",
       "    <tr>\n",
       "      <th>ITUB3</th>\n",
       "      <td>9.758519</td>\n",
       "    </tr>\n",
       "    <tr>\n",
       "      <th>CIEL3</th>\n",
       "      <td>12.021791</td>\n",
       "    </tr>\n",
       "    <tr>\n",
       "      <th>DTEX3</th>\n",
       "      <td>7.367407</td>\n",
       "    </tr>\n",
       "    <tr>\n",
       "      <th>MEAL3</th>\n",
       "      <td>10.053353</td>\n",
       "    </tr>\n",
       "    <tr>\n",
       "      <th>RADL3</th>\n",
       "      <td>15.817236</td>\n",
       "    </tr>\n",
       "    <tr>\n",
       "      <th>WEGE3</th>\n",
       "      <td>15.597173</td>\n",
       "    </tr>\n",
       "    <tr>\n",
       "      <th>QUAL3</th>\n",
       "      <td>9.037981</td>\n",
       "    </tr>\n",
       "    <tr>\n",
       "      <th>LIGT3</th>\n",
       "      <td>5.504934</td>\n",
       "    </tr>\n",
       "    <tr>\n",
       "      <th>MULT3</th>\n",
       "      <td>8.734952</td>\n",
       "    </tr>\n",
       "  </tbody>\n",
       "</table>\n",
       "</div>"
      ],
      "text/plain": [
       "           Pesos\n",
       "YDUQ3   6.106652\n",
       "ITUB3   9.758519\n",
       "CIEL3  12.021791\n",
       "DTEX3   7.367407\n",
       "MEAL3  10.053353\n",
       "RADL3  15.817236\n",
       "WEGE3  15.597173\n",
       "QUAL3   9.037981\n",
       "LIGT3   5.504934\n",
       "MULT3   8.734952"
      ]
     },
     "execution_count": 54,
     "metadata": {},
     "output_type": "execute_result"
    }
   ],
   "source": [
    "pesosHRP.T*100"
   ]
  },
  {
   "cell_type": "code",
   "execution_count": 55,
   "metadata": {},
   "outputs": [
    {
     "name": "stdout",
     "output_type": "stream",
     "text": [
      "Média retornos HRP 0.2010%\n",
      "Desvio Padrão retornos HRP 1.1568%\n",
      "Sharpe HRP 3.3338\n"
     ]
    }
   ],
   "source": [
    "print('Média retornos HRP %.4f' % (meanHRP*100)+'%')\n",
    "print('Desvio Padrão retornos HRP %.4f'% (stdHRP*100)+'%')\n",
    "sharpeHRP=((historico_acumuladoHRP[-1]-1)/(stdHRP*math.sqrt(252)))\n",
    "print('Sharpe HRP %.4f'% (sharpeHRP))"
   ]
  },
  {
   "cell_type": "code",
   "execution_count": 56,
   "metadata": {},
   "outputs": [
    {
     "data": {
      "text/html": [
       "<div>\n",
       "<style scoped>\n",
       "    .dataframe tbody tr th:only-of-type {\n",
       "        vertical-align: middle;\n",
       "    }\n",
       "\n",
       "    .dataframe tbody tr th {\n",
       "        vertical-align: top;\n",
       "    }\n",
       "\n",
       "    .dataframe thead th {\n",
       "        text-align: right;\n",
       "    }\n",
       "</style>\n",
       "<table border=\"1\" class=\"dataframe\">\n",
       "  <thead>\n",
       "    <tr style=\"text-align: right;\">\n",
       "      <th></th>\n",
       "      <th>Pesos</th>\n",
       "    </tr>\n",
       "  </thead>\n",
       "  <tbody>\n",
       "    <tr>\n",
       "      <th>YDUQ3</th>\n",
       "      <td>0.809656</td>\n",
       "    </tr>\n",
       "    <tr>\n",
       "      <th>ITUB3</th>\n",
       "      <td>12.252411</td>\n",
       "    </tr>\n",
       "    <tr>\n",
       "      <th>CIEL3</th>\n",
       "      <td>12.951231</td>\n",
       "    </tr>\n",
       "    <tr>\n",
       "      <th>DTEX3</th>\n",
       "      <td>0.344537</td>\n",
       "    </tr>\n",
       "    <tr>\n",
       "      <th>MEAL3</th>\n",
       "      <td>12.945634</td>\n",
       "    </tr>\n",
       "    <tr>\n",
       "      <th>RADL3</th>\n",
       "      <td>21.795290</td>\n",
       "    </tr>\n",
       "    <tr>\n",
       "      <th>WEGE3</th>\n",
       "      <td>22.852685</td>\n",
       "    </tr>\n",
       "    <tr>\n",
       "      <th>QUAL3</th>\n",
       "      <td>4.487532</td>\n",
       "    </tr>\n",
       "    <tr>\n",
       "      <th>LIGT3</th>\n",
       "      <td>1.488226</td>\n",
       "    </tr>\n",
       "    <tr>\n",
       "      <th>MULT3</th>\n",
       "      <td>10.072797</td>\n",
       "    </tr>\n",
       "  </tbody>\n",
       "</table>\n",
       "</div>"
      ],
      "text/plain": [
       "           Pesos\n",
       "YDUQ3   0.809656\n",
       "ITUB3  12.252411\n",
       "CIEL3  12.951231\n",
       "DTEX3   0.344537\n",
       "MEAL3  12.945634\n",
       "RADL3  21.795290\n",
       "WEGE3  22.852685\n",
       "QUAL3   4.487532\n",
       "LIGT3   1.488226\n",
       "MULT3  10.072797"
      ]
     },
     "execution_count": 56,
     "metadata": {},
     "output_type": "execute_result"
    }
   ],
   "source": [
    "pesosCLA*100"
   ]
  },
  {
   "cell_type": "code",
   "execution_count": 57,
   "metadata": {},
   "outputs": [
    {
     "name": "stdout",
     "output_type": "stream",
     "text": [
      "Média retornos CLA 0.1891%\n",
      "Desvio Padrão retornos CLA 1.1549%\n",
      "Sharpe CLA 3.0866\n"
     ]
    }
   ],
   "source": [
    "print('Média retornos CLA %.4f' % (meanCLA*100)+'%')\n",
    "print('Desvio Padrão retornos CLA %.4f'% (stdCLA*100)+'%')\n",
    "sharpeCLA=((historico_acumuladoCLA[-1]-1)/(stdCLA*math.sqrt(252)))\n",
    "print('Sharpe CLA %.4f'% (sharpeCLA))"
   ]
  },
  {
   "cell_type": "code",
   "execution_count": 58,
   "metadata": {},
   "outputs": [
    {
     "data": {
      "text/plain": [
       "Text(0.5, 1.0, 'Hierarchical Clustering Dendogram')"
      ]
     },
     "execution_count": 58,
     "metadata": {},
     "output_type": "execute_result"
    },
    {
     "data": {
      "image/png": "[encoded data removed]",
      "text/plain": [
       "<Figure size 1080x360 with 1 Axes>"
      ]
     },
     "metadata": {
      "needs_background": "light"
     },
     "output_type": "display_data"
    }
   ],
   "source": [
    "f, ax = plt.subplots(figsize=(15, 5))\n",
    "# Plot Dendrogram\n",
    "hrp.plot_clusters(assets=preços.columns)\n",
    "plt.yticks(rotation=0) \n",
    "ax.set_ylabel(\"Cluster Leaves Distance\",fontsize=12)  \n",
    "ax.set_xlabel(\"Ativos\",fontsize=15)  \n",
    "ax.set_title(\"Hierarchical Clustering Dendogram\",fontsize=15)"
   ]
  },
  {
   "cell_type": "markdown",
   "metadata": {},
   "source": [
    "<div id=\"Resumo dos resultados\">\n",
    "    <h2>9) Resumo dos resultados.</h2>\n",
    "</div>"
   ]
  },
  {
   "cell_type": "code",
   "execution_count": 59,
   "metadata": {},
   "outputs": [
    {
     "name": "stdout",
     "output_type": "stream",
     "text": [
      "HRP MELHOR SHARPE\n",
      "CLA MENOR STD\n",
      "HRP MELHOR MÉDIA DE RETORNOS\n"
     ]
    }
   ],
   "source": [
    "if sharpeHRP>sharpeCLA:\n",
    "    print('HRP MELHOR SHARPE')\n",
    "else:\n",
    "    print('CLA MELHOR SHARPE')\n",
    "    \n",
    "if stdCLA>stdHRP:\n",
    "    print('HRP MENOR STD')\n",
    "else:\n",
    "    print('CLA MENOR STD')\n",
    "    \n",
    "if meanHRP>meanCLA:\n",
    "    print('HRP MELHOR MÉDIA DE RETORNOS')\n",
    "else:\n",
    "    print('CLA MELHOR MÉDIA DE RETORNOS')"
   ]
  },
  {
   "cell_type": "code",
   "execution_count": 60,
   "metadata": {},
   "outputs": [
    {
     "data": {
      "text/plain": [
       "Text(0, 0.5, 'Peso')"
      ]
     },
     "execution_count": 60,
     "metadata": {},
     "output_type": "execute_result"
    },
    {
     "data": {
      "image/png": "[encoded data removed]",
      "text/plain": [
       "<Figure size 432x288 with 1 Axes>"
      ]
     },
     "metadata": {
      "needs_background": "light"
     },
     "output_type": "display_data"
    }
   ],
   "source": [
    "pesosCLA.plot(kind=\"bar\")\n",
    "plt.title(\"Pesos de cada ativo no portfólio CLA\")\n",
    "plt.xlabel(\"Ativo\")\n",
    "plt.ylabel(\"Peso\")"
   ]
  },
  {
   "cell_type": "code",
   "execution_count": 61,
   "metadata": {},
   "outputs": [
    {
     "data": {
      "text/plain": [
       "Text(0, 0.5, 'Peso')"
      ]
     },
     "execution_count": 61,
     "metadata": {},
     "output_type": "execute_result"
    },
    {
     "data": {
      "image/png": "[encoded data removed]",
      "text/plain": [
       "<Figure size 432x288 with 1 Axes>"
      ]
     },
     "metadata": {
      "needs_background": "light"
     },
     "output_type": "display_data"
    }
   ],
   "source": [
    "pesosHRP.T.plot(kind=\"bar\")\n",
    "plt.title(\"Pesos de cada ativo no portfólio HRP\")\n",
    "plt.xlabel(\"Ativo\")\n",
    "plt.ylabel(\"Peso\")"
   ]
  },
  {
   "cell_type": "code",
   "execution_count": 62,
   "metadata": {},
   "outputs": [
    {
     "data": {
      "text/plain": [
       "count    246.000000\n",
       "mean       0.002010\n",
       "std        0.011568\n",
       "min       -0.035827\n",
       "25%       -0.004913\n",
       "50%        0.002189\n",
       "75%        0.009133\n",
       "max        0.033396\n",
       "dtype: float64"
      ]
     },
     "execution_count": 62,
     "metadata": {},
     "output_type": "execute_result"
    }
   ],
   "source": [
    "retornosHRP.describe()"
   ]
  },
  {
   "cell_type": "code",
   "execution_count": 63,
   "metadata": {},
   "outputs": [
    {
     "data": {
      "text/plain": [
       "count    246.000000\n",
       "mean       0.001891\n",
       "std        0.011549\n",
       "min       -0.037056\n",
       "25%       -0.005872\n",
       "50%        0.001464\n",
       "75%        0.010120\n",
       "max        0.031117\n",
       "dtype: float64"
      ]
     },
     "execution_count": 63,
     "metadata": {},
     "output_type": "execute_result"
    }
   ],
   "source": [
    "retornosCLA.describe()"
   ]
  },
  {
   "cell_type": "code",
   "execution_count": 64,
   "metadata": {},
   "outputs": [
    {
     "data": {
      "text/plain": [
       "count    246.000000\n",
       "mean       0.001048\n",
       "std        0.011168\n",
       "min       -0.037381\n",
       "25%       -0.005165\n",
       "50%        0.001924\n",
       "75%        0.008556\n",
       "max        0.027914\n",
       "Name: Adj Close, dtype: float64"
      ]
     },
     "execution_count": 64,
     "metadata": {},
     "output_type": "execute_result"
    }
   ],
   "source": [
    "pct_bovespa.describe()"
   ]
  },
  {
   "cell_type": "code",
   "execution_count": 65,
   "metadata": {},
   "outputs": [
    {
     "data": {
      "text/plain": [
       "<matplotlib.axes._subplots.AxesSubplot at 0x142a7d96eb8>"
      ]
     },
     "execution_count": 65,
     "metadata": {},
     "output_type": "execute_result"
    },
    {
     "data": {
      "image/png": "[encoded data removed]",
      "text/plain": [
       "<Figure size 432x288 with 1 Axes>"
      ]
     },
     "metadata": {
      "needs_background": "light"
     },
     "output_type": "display_data"
    }
   ],
   "source": [
    "import seaborn as sns\n",
    "\n",
    "sns.distplot(retornosHRP,bins=20)"
   ]
  },
  {
   "cell_type": "code",
   "execution_count": 66,
   "metadata": {},
   "outputs": [
    {
     "data": {
      "text/plain": [
       "<matplotlib.axes._subplots.AxesSubplot at 0x142a7f99470>"
      ]
     },
     "execution_count": 66,
     "metadata": {},
     "output_type": "execute_result"
    },
    {
     "data": {
      "image/png": "[encoded data removed]",
      "text/plain": [
       "<Figure size 432x288 with 1 Axes>"
      ]
     },
     "metadata": {
      "needs_background": "light"
     },
     "output_type": "display_data"
    }
   ],
   "source": [
    "sns.distplot(retornosCLA,bins=20)"
   ]
  },
  {
   "cell_type": "code",
   "execution_count": 67,
   "metadata": {},
   "outputs": [
    {
     "data": {
      "text/plain": [
       "<matplotlib.axes._subplots.AxesSubplot at 0x142a8032828>"
      ]
     },
     "execution_count": 67,
     "metadata": {},
     "output_type": "execute_result"
    },
    {
     "data": {
      "image/png": "[encoded data removed]",
      "text/plain": [
       "<Figure size 432x288 with 1 Axes>"
      ]
     },
     "metadata": {
      "needs_background": "light"
     },
     "output_type": "display_data"
    }
   ],
   "source": [
    "sns.distplot(pct_bovespa,bins=20)"
   ]
  },
  {
   "cell_type": "code",
   "execution_count": null,
   "metadata": {},
   "outputs": [],
   "source": []
  }
 ],
 "metadata": {
  "kernelspec": {
   "display_name": "Python 3",
   "language": "python",
   "name": "python3"
  },
  "language_info": {
   "codemirror_mode": {
    "name": "ipython",
    "version": 3
   },
   "file_extension": ".py",
   "mimetype": "text/x-python",
   "name": "python",
   "nbconvert_exporter": "python",
   "pygments_lexer": "ipython3",
   "version": "3.7.3"
  }
 },
 "nbformat": 4,
 "nbformat_minor": 4
}
